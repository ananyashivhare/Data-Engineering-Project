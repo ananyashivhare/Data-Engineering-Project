{
 "cells": [
  {
   "cell_type": "code",
   "execution_count": 0,
   "metadata": {
    "application/vnd.databricks.v1+cell": {
     "cellMetadata": {
      "byteLimit": 2048000,
      "rowLimit": 10000
     },
     "inputWidgets": {},
     "nuid": "d7a8004a-5eb2-4424-9372-44aea285bef9",
     "showTitle": false,
     "tableResultSettingsMap": {},
     "title": ""
    }
   },
   "outputs": [],
   "source": [
    "configs = {\n",
    "    \"fs.azure.sas.creditcarddefaulterfraud.storageaccananyashivhare.blob.core.windows.net\": \"sv=2024-11-04&ss=bfqt&srt=sco&sp=rwdlacupiytfx&se=2025-10-14T05:32:59Z&st=2025-10-13T21:17:59Z&spr=https&sig=b9ZLgCIMpRTDZ0vmofsCfd8AwbZIwPxImfteCMFi3Og%3D\"\n",
    "}"
   ]
  },
  {
   "cell_type": "code",
   "execution_count": 0,
   "metadata": {
    "application/vnd.databricks.v1+cell": {
     "cellMetadata": {
      "byteLimit": 2048000,
      "rowLimit": 10000
     },
     "inputWidgets": {},
     "nuid": "848b3f70-d521-4ed4-83fd-1514f22f1f4d",
     "showTitle": false,
     "tableResultSettingsMap": {},
     "title": ""
    }
   },
   "outputs": [
    {
     "output_type": "stream",
     "name": "stdout",
     "output_type": "stream",
     "text": [
      "======================================================================\nSILVER LAYER TRANSFORMATION\n======================================================================\n\n\uD83D\uDCC1 Bronze path: /mnt/cc/bronze/credit_default\n\uD83D\uDCC1 Silver path: /mnt/cc/silver/credit_default\n\n----------------------------------------------------------------------\nSTEP 1: READING BRONZE DATA\n----------------------------------------------------------------------\n✓ Successfully loaded bronze data\n  Rows: 90000\n  Columns: 26\n  Columns: ['ID', 'LIMIT_BAL', 'SEX', 'EDUCATION', 'MARRIAGE', 'AGE', 'PAY_0', 'PAY_2', 'PAY_3', 'PAY_4', 'PAY_5', 'PAY_6', 'BILL_AMT1', 'BILL_AMT2', 'BILL_AMT3', 'BILL_AMT4', 'BILL_AMT5', 'BILL_AMT6', 'PAY_AMT1', 'PAY_AMT2', 'PAY_AMT3', 'PAY_AMT4', 'PAY_AMT5', 'PAY_AMT6', 'default', 'ingest_ts']\n\n----------------------------------------------------------------------\nSTEP 2: DATA TRANSFORMATIONS\n----------------------------------------------------------------------\n\n3A. Converting numeric columns to double...\n   Found 21 numeric columns:\n     - ID\n     - LIMIT_BAL\n     - AGE\n     - PAY_0\n     - PAY_2\n     - PAY_3\n     - PAY_4\n     - PAY_5\n     - PAY_6\n     - BILL_AMT1\n     - BILL_AMT2\n     - BILL_AMT3\n     - BILL_AMT4\n     - BILL_AMT5\n     - BILL_AMT6\n     - PAY_AMT1\n     - PAY_AMT2\n     - PAY_AMT3\n     - PAY_AMT4\n     - PAY_AMT5\n     - PAY_AMT6\n   ✓ Conversion complete\n\n3B. Cleaning EDUCATION column...\n   - Mapping education values: 0,1,2,3 stay same, others become 4\n   ✓ Education values before: 6, after: 2\n\n3C. Calculating average bill amount...\n   - Formula: (BILL_AMT1 + BILL_AMT2 + BILL_AMT3 + BILL_AMT4 + BILL_AMT5 + BILL_AMT6) / 6\n   ✓ Average bill amount calculated\n\n✓ All data transformations complete\n  Total columns after transformation: 27\n\n----------------------------------------------------------------------\nSTEP 3: WRITING TO SILVER LAYER\n----------------------------------------------------------------------\n\nCreating silver directory: /mnt/cc/silver/credit_default\n✓ Directory created/exists\n\nWriting delta table...\n✓ Successfully written 90000 rows to silver layer\n✓ Location: /mnt/cc/silver/credit_default\n\n----------------------------------------------------------------------\nSTEP 4: CREATING DATABASE AND TABLE\n----------------------------------------------------------------------\n\nCreating database: credit_risk\n✓ Database created/exists\n\nCreating table: credit_risk.silver_credit_default\n⚠ Warning: Could not create table: [RequestId=be066db8-b64b-4bb1-b8e9-4f23c3234bd2 ErrorClass=INVALID_PARAMETER_VALUE.INVALID_PARAMETER_VALUE] Missing cloud file system scheme\n⚠ But data is safely written to silver layer\n\n======================================================================\n✓ SILVER LAYER TRANSFORMATION COMPLETE!\n======================================================================\n\n\uD83D\uDCCA SUMMARY:\n  Database: credit_risk\n  Table: silver_credit_default\n  Location: /mnt/cc/silver/credit_default\n  Total Rows: 90,000\n  Total Columns: 27\n\n----------------------------------------------------------------------\nCOLUMN NAMES:\n----------------------------------------------------------------------\n   1. ID\n   2. LIMIT_BAL\n   3. SEX\n   4. EDUCATION\n   5. MARRIAGE\n   6. AGE\n   7. PAY_0\n   8. PAY_2\n   9. PAY_3\n  10. PAY_4\n  11. PAY_5\n  12. PAY_6\n  13. BILL_AMT1\n  14. BILL_AMT2\n  15. BILL_AMT3\n  16. BILL_AMT4\n  17. BILL_AMT5\n  18. BILL_AMT6\n  19. PAY_AMT1\n  20. PAY_AMT2\n  21. PAY_AMT3\n  22. PAY_AMT4\n  23. PAY_AMT5\n  24. PAY_AMT6\n  25. default\n  26. ingest_ts\n  27. avg_bill_amt\n\n----------------------------------------------------------------------\nSAMPLE DATA (First 10 rows):\n----------------------------------------------------------------------\n"
     ]
    },
    {
     "output_type": "display_data",
     "data": {
      "text/html": [
       "<style scoped>\n",
       "  .table-result-container {\n",
       "    max-height: 300px;\n",
       "    overflow: auto;\n",
       "  }\n",
       "  table, th, td {\n",
       "    border: 1px solid black;\n",
       "    border-collapse: collapse;\n",
       "  }\n",
       "  th, td {\n",
       "    padding: 5px;\n",
       "  }\n",
       "  th {\n",
       "    text-align: left;\n",
       "  }\n",
       "</style><div class='table-result-container'><table class='table-result'><thead style='background-color: white'><tr><th>ID</th><th>LIMIT_BAL</th><th>SEX</th><th>EDUCATION</th><th>MARRIAGE</th><th>AGE</th><th>PAY_0</th><th>PAY_2</th><th>PAY_3</th><th>PAY_4</th><th>PAY_5</th><th>PAY_6</th><th>BILL_AMT1</th><th>BILL_AMT2</th><th>BILL_AMT3</th><th>BILL_AMT4</th><th>BILL_AMT5</th><th>BILL_AMT6</th><th>PAY_AMT1</th><th>PAY_AMT2</th><th>PAY_AMT3</th><th>PAY_AMT4</th><th>PAY_AMT5</th><th>PAY_AMT6</th><th>default</th><th>ingest_ts</th><th>avg_bill_amt</th></tr></thead><tbody><tr><td>1.0</td><td>20000.0</td><td>F</td><td>4</td><td>Married</td><td>24.0</td><td>2.0</td><td>2.0</td><td>-1.0</td><td>-1.0</td><td>-2.0</td><td>-2.0</td><td>3913.0</td><td>3102.0</td><td>689.0</td><td>0.0</td><td>0.0</td><td>0.0</td><td>0.0</td><td>689.0</td><td>0.0</td><td>0.0</td><td>0.0</td><td>0.0</td><td>Y</td><td>2025-10-13T22:34:44.235+0000</td><td>1284.0</td></tr><tr><td>2.0</td><td>120000.0</td><td>F</td><td>4</td><td>Single</td><td>26.0</td><td>-1.0</td><td>2.0</td><td>0.0</td><td>0.0</td><td>0.0</td><td>2.0</td><td>2682.0</td><td>1725.0</td><td>2682.0</td><td>3272.0</td><td>3455.0</td><td>3261.0</td><td>0.0</td><td>1000.0</td><td>1000.0</td><td>1000.0</td><td>0.0</td><td>2000.0</td><td>Y</td><td>2025-10-13T22:34:44.235+0000</td><td>2846.1666666666665</td></tr><tr><td>3.0</td><td>90000.0</td><td>F</td><td>4</td><td>Single</td><td>34.0</td><td>0.0</td><td>0.0</td><td>0.0</td><td>0.0</td><td>0.0</td><td>0.0</td><td>29239.0</td><td>14027.0</td><td>13559.0</td><td>14331.0</td><td>14948.0</td><td>15549.0</td><td>1518.0</td><td>1500.0</td><td>1000.0</td><td>1000.0</td><td>1000.0</td><td>5000.0</td><td>N</td><td>2025-10-13T22:34:44.235+0000</td><td>16942.166666666668</td></tr><tr><td>4.0</td><td>50000.0</td><td>F</td><td>4</td><td>Married</td><td>37.0</td><td>0.0</td><td>0.0</td><td>0.0</td><td>0.0</td><td>0.0</td><td>0.0</td><td>46990.0</td><td>48233.0</td><td>49291.0</td><td>28314.0</td><td>28959.0</td><td>29547.0</td><td>2000.0</td><td>2019.0</td><td>1200.0</td><td>1100.0</td><td>1069.0</td><td>1000.0</td><td>N</td><td>2025-10-13T22:34:44.235+0000</td><td>38555.666666666664</td></tr><tr><td>5.0</td><td>50000.0</td><td>M</td><td>4</td><td>Married</td><td>57.0</td><td>-1.0</td><td>0.0</td><td>-1.0</td><td>0.0</td><td>0.0</td><td>0.0</td><td>8617.0</td><td>5670.0</td><td>35835.0</td><td>20940.0</td><td>19146.0</td><td>19131.0</td><td>2000.0</td><td>36681.0</td><td>10000.0</td><td>9000.0</td><td>689.0</td><td>679.0</td><td>N</td><td>2025-10-13T22:34:44.235+0000</td><td>18223.166666666668</td></tr><tr><td>6.0</td><td>50000.0</td><td>M</td><td>4</td><td>Single</td><td>37.0</td><td>0.0</td><td>0.0</td><td>0.0</td><td>0.0</td><td>0.0</td><td>0.0</td><td>64400.0</td><td>57069.0</td><td>57608.0</td><td>19394.0</td><td>19619.0</td><td>20024.0</td><td>2500.0</td><td>1815.0</td><td>657.0</td><td>1000.0</td><td>1000.0</td><td>800.0</td><td>N</td><td>2025-10-13T22:34:44.235+0000</td><td>39685.666666666664</td></tr><tr><td>7.0</td><td>500000.0</td><td>M</td><td>4</td><td>Single</td><td>29.0</td><td>0.0</td><td>0.0</td><td>0.0</td><td>0.0</td><td>0.0</td><td>0.0</td><td>367965.0</td><td>412023.0</td><td>445007.0</td><td>542653.0</td><td>483003.0</td><td>473944.0</td><td>55000.0</td><td>40000.0</td><td>38000.0</td><td>20239.0</td><td>13750.0</td><td>13770.0</td><td>N</td><td>2025-10-13T22:34:44.235+0000</td><td>454099.1666666667</td></tr><tr><td>8.0</td><td>100000.0</td><td>F</td><td>4</td><td>Single</td><td>23.0</td><td>0.0</td><td>-1.0</td><td>-1.0</td><td>0.0</td><td>0.0</td><td>-1.0</td><td>11876.0</td><td>380.0</td><td>601.0</td><td>221.0</td><td>-159.0</td><td>567.0</td><td>380.0</td><td>601.0</td><td>0.0</td><td>581.0</td><td>1687.0</td><td>1542.0</td><td>N</td><td>2025-10-13T22:34:44.235+0000</td><td>2247.6666666666665</td></tr><tr><td>9.0</td><td>140000.0</td><td>F</td><td>4</td><td>Married</td><td>28.0</td><td>0.0</td><td>0.0</td><td>2.0</td><td>0.0</td><td>0.0</td><td>0.0</td><td>11285.0</td><td>14096.0</td><td>12108.0</td><td>12211.0</td><td>11793.0</td><td>3719.0</td><td>3329.0</td><td>0.0</td><td>432.0</td><td>1000.0</td><td>1000.0</td><td>1000.0</td><td>N</td><td>2025-10-13T22:34:44.235+0000</td><td>10868.666666666666</td></tr><tr><td>10.0</td><td>20000.0</td><td>M</td><td>4</td><td>Single</td><td>35.0</td><td>-2.0</td><td>-2.0</td><td>-2.0</td><td>-2.0</td><td>-1.0</td><td>-1.0</td><td>0.0</td><td>0.0</td><td>0.0</td><td>0.0</td><td>13007.0</td><td>13912.0</td><td>0.0</td><td>0.0</td><td>0.0</td><td>13007.0</td><td>1122.0</td><td>0.0</td><td>N</td><td>2025-10-13T22:34:44.235+0000</td><td>4486.5</td></tr></tbody></table></div>"
      ]
     },
     "metadata": {
      "application/vnd.databricks.v1+output": {
       "addedWidgets": {},
       "aggData": [],
       "aggError": "",
       "aggOverflow": false,
       "aggSchema": [],
       "aggSeriesLimitReached": false,
       "aggType": "",
       "arguments": {},
       "columnCustomDisplayInfos": {},
       "data": [
        [
         1.0,
         20000.0,
         "F",
         "4",
         "Married",
         24.0,
         2.0,
         2.0,
         -1.0,
         -1.0,
         -2.0,
         -2.0,
         3913.0,
         3102.0,
         689.0,
         0.0,
         0.0,
         0.0,
         0.0,
         689.0,
         0.0,
         0.0,
         0.0,
         0.0,
         "Y",
         "2025-10-13T22:34:44.235+0000",
         1284.0
        ],
        [
         2.0,
         120000.0,
         "F",
         "4",
         "Single",
         26.0,
         -1.0,
         2.0,
         0.0,
         0.0,
         0.0,
         2.0,
         2682.0,
         1725.0,
         2682.0,
         3272.0,
         3455.0,
         3261.0,
         0.0,
         1000.0,
         1000.0,
         1000.0,
         0.0,
         2000.0,
         "Y",
         "2025-10-13T22:34:44.235+0000",
         2846.1666666666665
        ],
        [
         3.0,
         90000.0,
         "F",
         "4",
         "Single",
         34.0,
         0.0,
         0.0,
         0.0,
         0.0,
         0.0,
         0.0,
         29239.0,
         14027.0,
         13559.0,
         14331.0,
         14948.0,
         15549.0,
         1518.0,
         1500.0,
         1000.0,
         1000.0,
         1000.0,
         5000.0,
         "N",
         "2025-10-13T22:34:44.235+0000",
         16942.166666666668
        ],
        [
         4.0,
         50000.0,
         "F",
         "4",
         "Married",
         37.0,
         0.0,
         0.0,
         0.0,
         0.0,
         0.0,
         0.0,
         46990.0,
         48233.0,
         49291.0,
         28314.0,
         28959.0,
         29547.0,
         2000.0,
         2019.0,
         1200.0,
         1100.0,
         1069.0,
         1000.0,
         "N",
         "2025-10-13T22:34:44.235+0000",
         38555.666666666664
        ],
        [
         5.0,
         50000.0,
         "M",
         "4",
         "Married",
         57.0,
         -1.0,
         0.0,
         -1.0,
         0.0,
         0.0,
         0.0,
         8617.0,
         5670.0,
         35835.0,
         20940.0,
         19146.0,
         19131.0,
         2000.0,
         36681.0,
         10000.0,
         9000.0,
         689.0,
         679.0,
         "N",
         "2025-10-13T22:34:44.235+0000",
         18223.166666666668
        ],
        [
         6.0,
         50000.0,
         "M",
         "4",
         "Single",
         37.0,
         0.0,
         0.0,
         0.0,
         0.0,
         0.0,
         0.0,
         64400.0,
         57069.0,
         57608.0,
         19394.0,
         19619.0,
         20024.0,
         2500.0,
         1815.0,
         657.0,
         1000.0,
         1000.0,
         800.0,
         "N",
         "2025-10-13T22:34:44.235+0000",
         39685.666666666664
        ],
        [
         7.0,
         500000.0,
         "M",
         "4",
         "Single",
         29.0,
         0.0,
         0.0,
         0.0,
         0.0,
         0.0,
         0.0,
         367965.0,
         412023.0,
         445007.0,
         542653.0,
         483003.0,
         473944.0,
         55000.0,
         40000.0,
         38000.0,
         20239.0,
         13750.0,
         13770.0,
         "N",
         "2025-10-13T22:34:44.235+0000",
         454099.1666666667
        ],
        [
         8.0,
         100000.0,
         "F",
         "4",
         "Single",
         23.0,
         0.0,
         -1.0,
         -1.0,
         0.0,
         0.0,
         -1.0,
         11876.0,
         380.0,
         601.0,
         221.0,
         -159.0,
         567.0,
         380.0,
         601.0,
         0.0,
         581.0,
         1687.0,
         1542.0,
         "N",
         "2025-10-13T22:34:44.235+0000",
         2247.6666666666665
        ],
        [
         9.0,
         140000.0,
         "F",
         "4",
         "Married",
         28.0,
         0.0,
         0.0,
         2.0,
         0.0,
         0.0,
         0.0,
         11285.0,
         14096.0,
         12108.0,
         12211.0,
         11793.0,
         3719.0,
         3329.0,
         0.0,
         432.0,
         1000.0,
         1000.0,
         1000.0,
         "N",
         "2025-10-13T22:34:44.235+0000",
         10868.666666666666
        ],
        [
         10.0,
         20000.0,
         "M",
         "4",
         "Single",
         35.0,
         -2.0,
         -2.0,
         -2.0,
         -2.0,
         -1.0,
         -1.0,
         0.0,
         0.0,
         0.0,
         0.0,
         13007.0,
         13912.0,
         0.0,
         0.0,
         0.0,
         13007.0,
         1122.0,
         0.0,
         "N",
         "2025-10-13T22:34:44.235+0000",
         4486.5
        ]
       ],
       "datasetInfos": [],
       "dbfsResultPath": null,
       "isJsonSchema": true,
       "metadata": {},
       "overflow": false,
       "plotOptions": {
        "customPlotOptions": {},
        "displayType": "table",
        "pivotAggregation": null,
        "pivotColumns": null,
        "xColumns": null,
        "yColumns": null
       },
       "removedWidgets": [],
       "schema": [
        {
         "metadata": "{}",
         "name": "ID",
         "type": "\"double\""
        },
        {
         "metadata": "{}",
         "name": "LIMIT_BAL",
         "type": "\"double\""
        },
        {
         "metadata": "{}",
         "name": "SEX",
         "type": "\"string\""
        },
        {
         "metadata": "{}",
         "name": "EDUCATION",
         "type": "\"string\""
        },
        {
         "metadata": "{}",
         "name": "MARRIAGE",
         "type": "\"string\""
        },
        {
         "metadata": "{}",
         "name": "AGE",
         "type": "\"double\""
        },
        {
         "metadata": "{}",
         "name": "PAY_0",
         "type": "\"double\""
        },
        {
         "metadata": "{}",
         "name": "PAY_2",
         "type": "\"double\""
        },
        {
         "metadata": "{}",
         "name": "PAY_3",
         "type": "\"double\""
        },
        {
         "metadata": "{}",
         "name": "PAY_4",
         "type": "\"double\""
        },
        {
         "metadata": "{}",
         "name": "PAY_5",
         "type": "\"double\""
        },
        {
         "metadata": "{}",
         "name": "PAY_6",
         "type": "\"double\""
        },
        {
         "metadata": "{}",
         "name": "BILL_AMT1",
         "type": "\"double\""
        },
        {
         "metadata": "{}",
         "name": "BILL_AMT2",
         "type": "\"double\""
        },
        {
         "metadata": "{}",
         "name": "BILL_AMT3",
         "type": "\"double\""
        },
        {
         "metadata": "{}",
         "name": "BILL_AMT4",
         "type": "\"double\""
        },
        {
         "metadata": "{}",
         "name": "BILL_AMT5",
         "type": "\"double\""
        },
        {
         "metadata": "{}",
         "name": "BILL_AMT6",
         "type": "\"double\""
        },
        {
         "metadata": "{}",
         "name": "PAY_AMT1",
         "type": "\"double\""
        },
        {
         "metadata": "{}",
         "name": "PAY_AMT2",
         "type": "\"double\""
        },
        {
         "metadata": "{}",
         "name": "PAY_AMT3",
         "type": "\"double\""
        },
        {
         "metadata": "{}",
         "name": "PAY_AMT4",
         "type": "\"double\""
        },
        {
         "metadata": "{}",
         "name": "PAY_AMT5",
         "type": "\"double\""
        },
        {
         "metadata": "{}",
         "name": "PAY_AMT6",
         "type": "\"double\""
        },
        {
         "metadata": "{}",
         "name": "default",
         "type": "\"string\""
        },
        {
         "metadata": "{}",
         "name": "ingest_ts",
         "type": "\"timestamp\""
        },
        {
         "metadata": "{}",
         "name": "avg_bill_amt",
         "type": "\"double\""
        }
       ],
       "type": "table"
      }
     },
     "output_type": "display_data"
    },
    {
     "output_type": "stream",
     "name": "stdout",
     "output_type": "stream",
     "text": [
      "\n----------------------------------------------------------------------\nDATA SCHEMA:\n----------------------------------------------------------------------\nroot\n |-- ID: double (nullable = true)\n |-- LIMIT_BAL: double (nullable = true)\n |-- SEX: string (nullable = true)\n |-- EDUCATION: string (nullable = true)\n |-- MARRIAGE: string (nullable = true)\n |-- AGE: double (nullable = true)\n |-- PAY_0: double (nullable = true)\n |-- PAY_2: double (nullable = true)\n |-- PAY_3: double (nullable = true)\n |-- PAY_4: double (nullable = true)\n |-- PAY_5: double (nullable = true)\n |-- PAY_6: double (nullable = true)\n |-- BILL_AMT1: double (nullable = true)\n |-- BILL_AMT2: double (nullable = true)\n |-- BILL_AMT3: double (nullable = true)\n |-- BILL_AMT4: double (nullable = true)\n |-- BILL_AMT5: double (nullable = true)\n |-- BILL_AMT6: double (nullable = true)\n |-- PAY_AMT1: double (nullable = true)\n |-- PAY_AMT2: double (nullable = true)\n |-- PAY_AMT3: double (nullable = true)\n |-- PAY_AMT4: double (nullable = true)\n |-- PAY_AMT5: double (nullable = true)\n |-- PAY_AMT6: double (nullable = true)\n |-- default: string (nullable = true)\n |-- ingest_ts: timestamp (nullable = true)\n |-- avg_bill_amt: double (nullable = true)\n\n\n----------------------------------------------------------------------\nSUMMARY STATISTICS:\n----------------------------------------------------------------------\n"
     ]
    },
    {
     "output_type": "display_data",
     "data": {
      "text/html": [
       "<style scoped>\n",
       "  .table-result-container {\n",
       "    max-height: 300px;\n",
       "    overflow: auto;\n",
       "  }\n",
       "  table, th, td {\n",
       "    border: 1px solid black;\n",
       "    border-collapse: collapse;\n",
       "  }\n",
       "  th, td {\n",
       "    padding: 5px;\n",
       "  }\n",
       "  th {\n",
       "    text-align: left;\n",
       "  }\n",
       "</style><div class='table-result-container'><table class='table-result'><thead style='background-color: white'><tr><th>summary</th><th>ID</th><th>LIMIT_BAL</th><th>SEX</th><th>EDUCATION</th><th>MARRIAGE</th><th>AGE</th><th>PAY_0</th><th>PAY_2</th><th>PAY_3</th><th>PAY_4</th><th>PAY_5</th><th>PAY_6</th><th>BILL_AMT1</th><th>BILL_AMT2</th><th>BILL_AMT3</th><th>BILL_AMT4</th><th>BILL_AMT5</th><th>BILL_AMT6</th><th>PAY_AMT1</th><th>PAY_AMT2</th><th>PAY_AMT3</th><th>PAY_AMT4</th><th>PAY_AMT5</th><th>PAY_AMT6</th><th>default</th><th>avg_bill_amt</th></tr></thead><tbody><tr><td>count</td><td>90000</td><td>90000</td><td>90000</td><td>90000</td><td>90000</td><td>90000</td><td>90000</td><td>90000</td><td>90000</td><td>90000</td><td>90000</td><td>90000</td><td>90000</td><td>90000</td><td>90000</td><td>90000</td><td>90000</td><td>90000</td><td>90000</td><td>90000</td><td>90000</td><td>90000</td><td>90000</td><td>90000</td><td>90000</td><td>90000</td></tr><tr><td>mean</td><td>15000.5</td><td>167484.32266666667</td><td>null</td><td>3.9981333333333335</td><td>0.0</td><td>35.4855</td><td>-0.0167</td><td>-0.13376666666666667</td><td>-0.1662</td><td>-0.22066666666666668</td><td>-0.2662</td><td>-0.2911</td><td>51223.3309</td><td>49179.07516666667</td><td>47013.1548</td><td>43262.94896666666</td><td>40311.40096666667</td><td>38871.7604</td><td>5663.5805</td><td>5921.1635</td><td>5225.6815</td><td>4826.076866666666</td><td>4799.387633333334</td><td>5215.502566666667</td><td>null</td><td>44976.94519999998</td></tr><tr><td>stddev</td><td>8660.30214595648</td><td>129746.21990249012</td><td>null</td><td>0.0863901912683988</td><td>0.0</td><td>9.217801645226825</td><td>1.1237890411055755</td><td>1.1971726707464807</td><td>1.1968542696963889</td><td>1.1691256317566887</td><td>1.1331748148217171</td><td>1.1499748477546539</td><td>73635.04238566419</td><td>71172.97794969511</td><td>69348.61686544509</td><td>64332.14131249017</td><td>60796.48023505294</td><td>59553.445813411825</td><td>16563.09631450986</td><td>23040.61438811869</td><td>17606.765833637284</td><td>15665.985672689074</td><td>15278.135917363705</td><td>17777.268244745588</td><td>null</td><td>63260.018951766026</td></tr><tr><td>min</td><td>1.0</td><td>10000.0</td><td>F</td><td>0</td><td>0</td><td>21.0</td><td>-2.0</td><td>-2.0</td><td>-2.0</td><td>-2.0</td><td>-2.0</td><td>-2.0</td><td>-165580.0</td><td>-69777.0</td><td>-157264.0</td><td>-170000.0</td><td>-81334.0</td><td>-339603.0</td><td>0.0</td><td>0.0</td><td>0.0</td><td>0.0</td><td>0.0</td><td>0.0</td><td>N</td><td>-56043.166666666664</td></tr><tr><td>max</td><td>30000.0</td><td>1000000.0</td><td>M</td><td>4</td><td>Single</td><td>79.0</td><td>8.0</td><td>8.0</td><td>8.0</td><td>8.0</td><td>8.0</td><td>8.0</td><td>964511.0</td><td>983931.0</td><td>1664089.0</td><td>891586.0</td><td>927171.0</td><td>961664.0</td><td>873552.0</td><td>1684259.0</td><td>896040.0</td><td>621000.0</td><td>426529.0</td><td>528666.0</td><td>Y</td><td>877313.8333333334</td></tr></tbody></table></div>"
      ]
     },
     "metadata": {
      "application/vnd.databricks.v1+output": {
       "addedWidgets": {},
       "aggData": [],
       "aggError": "",
       "aggOverflow": false,
       "aggSchema": [],
       "aggSeriesLimitReached": false,
       "aggType": "",
       "arguments": {},
       "columnCustomDisplayInfos": {},
       "data": [
        [
         "count",
         "90000",
         "90000",
         "90000",
         "90000",
         "90000",
         "90000",
         "90000",
         "90000",
         "90000",
         "90000",
         "90000",
         "90000",
         "90000",
         "90000",
         "90000",
         "90000",
         "90000",
         "90000",
         "90000",
         "90000",
         "90000",
         "90000",
         "90000",
         "90000",
         "90000",
         "90000"
        ],
        [
         "mean",
         "15000.5",
         "167484.32266666667",
         null,
         "3.9981333333333335",
         "0.0",
         "35.4855",
         "-0.0167",
         "-0.13376666666666667",
         "-0.1662",
         "-0.22066666666666668",
         "-0.2662",
         "-0.2911",
         "51223.3309",
         "49179.07516666667",
         "47013.1548",
         "43262.94896666666",
         "40311.40096666667",
         "38871.7604",
         "5663.5805",
         "5921.1635",
         "5225.6815",
         "4826.076866666666",
         "4799.387633333334",
         "5215.502566666667",
         null,
         "44976.94519999998"
        ],
        [
         "stddev",
         "8660.30214595648",
         "129746.21990249012",
         null,
         "0.0863901912683988",
         "0.0",
         "9.217801645226825",
         "1.1237890411055755",
         "1.1971726707464807",
         "1.1968542696963889",
         "1.1691256317566887",
         "1.1331748148217171",
         "1.1499748477546539",
         "73635.04238566419",
         "71172.97794969511",
         "69348.61686544509",
         "64332.14131249017",
         "60796.48023505294",
         "59553.445813411825",
         "16563.09631450986",
         "23040.61438811869",
         "17606.765833637284",
         "15665.985672689074",
         "15278.135917363705",
         "17777.268244745588",
         null,
         "63260.018951766026"
        ],
        [
         "min",
         "1.0",
         "10000.0",
         "F",
         "0",
         "0",
         "21.0",
         "-2.0",
         "-2.0",
         "-2.0",
         "-2.0",
         "-2.0",
         "-2.0",
         "-165580.0",
         "-69777.0",
         "-157264.0",
         "-170000.0",
         "-81334.0",
         "-339603.0",
         "0.0",
         "0.0",
         "0.0",
         "0.0",
         "0.0",
         "0.0",
         "N",
         "-56043.166666666664"
        ],
        [
         "max",
         "30000.0",
         "1000000.0",
         "M",
         "4",
         "Single",
         "79.0",
         "8.0",
         "8.0",
         "8.0",
         "8.0",
         "8.0",
         "8.0",
         "964511.0",
         "983931.0",
         "1664089.0",
         "891586.0",
         "927171.0",
         "961664.0",
         "873552.0",
         "1684259.0",
         "896040.0",
         "621000.0",
         "426529.0",
         "528666.0",
         "Y",
         "877313.8333333334"
        ]
       ],
       "datasetInfos": [],
       "dbfsResultPath": null,
       "isJsonSchema": true,
       "metadata": {},
       "overflow": false,
       "plotOptions": {
        "customPlotOptions": {},
        "displayType": "table",
        "pivotAggregation": null,
        "pivotColumns": null,
        "xColumns": null,
        "yColumns": null
       },
       "removedWidgets": [],
       "schema": [
        {
         "metadata": "{}",
         "name": "summary",
         "type": "\"string\""
        },
        {
         "metadata": "{}",
         "name": "ID",
         "type": "\"string\""
        },
        {
         "metadata": "{}",
         "name": "LIMIT_BAL",
         "type": "\"string\""
        },
        {
         "metadata": "{}",
         "name": "SEX",
         "type": "\"string\""
        },
        {
         "metadata": "{}",
         "name": "EDUCATION",
         "type": "\"string\""
        },
        {
         "metadata": "{}",
         "name": "MARRIAGE",
         "type": "\"string\""
        },
        {
         "metadata": "{}",
         "name": "AGE",
         "type": "\"string\""
        },
        {
         "metadata": "{}",
         "name": "PAY_0",
         "type": "\"string\""
        },
        {
         "metadata": "{}",
         "name": "PAY_2",
         "type": "\"string\""
        },
        {
         "metadata": "{}",
         "name": "PAY_3",
         "type": "\"string\""
        },
        {
         "metadata": "{}",
         "name": "PAY_4",
         "type": "\"string\""
        },
        {
         "metadata": "{}",
         "name": "PAY_5",
         "type": "\"string\""
        },
        {
         "metadata": "{}",
         "name": "PAY_6",
         "type": "\"string\""
        },
        {
         "metadata": "{}",
         "name": "BILL_AMT1",
         "type": "\"string\""
        },
        {
         "metadata": "{}",
         "name": "BILL_AMT2",
         "type": "\"string\""
        },
        {
         "metadata": "{}",
         "name": "BILL_AMT3",
         "type": "\"string\""
        },
        {
         "metadata": "{}",
         "name": "BILL_AMT4",
         "type": "\"string\""
        },
        {
         "metadata": "{}",
         "name": "BILL_AMT5",
         "type": "\"string\""
        },
        {
         "metadata": "{}",
         "name": "BILL_AMT6",
         "type": "\"string\""
        },
        {
         "metadata": "{}",
         "name": "PAY_AMT1",
         "type": "\"string\""
        },
        {
         "metadata": "{}",
         "name": "PAY_AMT2",
         "type": "\"string\""
        },
        {
         "metadata": "{}",
         "name": "PAY_AMT3",
         "type": "\"string\""
        },
        {
         "metadata": "{}",
         "name": "PAY_AMT4",
         "type": "\"string\""
        },
        {
         "metadata": "{}",
         "name": "PAY_AMT5",
         "type": "\"string\""
        },
        {
         "metadata": "{}",
         "name": "PAY_AMT6",
         "type": "\"string\""
        },
        {
         "metadata": "{}",
         "name": "default",
         "type": "\"string\""
        },
        {
         "metadata": "{}",
         "name": "avg_bill_amt",
         "type": "\"string\""
        }
       ],
       "type": "table"
      }
     },
     "output_type": "display_data"
    },
    {
     "output_type": "stream",
     "name": "stdout",
     "output_type": "stream",
     "text": [
      "\n----------------------------------------------------------------------\nDATA QUALITY CHECKS:\n----------------------------------------------------------------------\n\nNull values by column:\n  ID: 0 nulls ✓\n  LIMIT_BAL: 0 nulls ✓\n  SEX: 0 nulls ✓\n  EDUCATION: 0 nulls ✓\n  MARRIAGE: 0 nulls ✓\n  AGE: 0 nulls ✓\n  PAY_0: 0 nulls ✓\n  PAY_2: 0 nulls ✓\n  PAY_3: 0 nulls ✓\n  PAY_4: 0 nulls ✓\n  PAY_5: 0 nulls ✓\n  PAY_6: 0 nulls ✓\n  BILL_AMT1: 0 nulls ✓\n  BILL_AMT2: 0 nulls ✓\n  BILL_AMT3: 0 nulls ✓\n  BILL_AMT4: 0 nulls ✓\n  BILL_AMT5: 0 nulls ✓\n  BILL_AMT6: 0 nulls ✓\n  PAY_AMT1: 0 nulls ✓\n  PAY_AMT2: 0 nulls ✓\n  PAY_AMT3: 0 nulls ✓\n  PAY_AMT4: 0 nulls ✓\n  PAY_AMT5: 0 nulls ✓\n  PAY_AMT6: 0 nulls ✓\n  default: 0 nulls ✓\n  ingest_ts: 0 nulls ✓\n  avg_bill_amt: 0 nulls ✓\n\n----------------------------------------------------------------------\nEDUCATION VALUE DISTRIBUTION:\n----------------------------------------------------------------------\n"
     ]
    },
    {
     "output_type": "display_data",
     "data": {
      "text/html": [
       "<style scoped>\n",
       "  .table-result-container {\n",
       "    max-height: 300px;\n",
       "    overflow: auto;\n",
       "  }\n",
       "  table, th, td {\n",
       "    border: 1px solid black;\n",
       "    border-collapse: collapse;\n",
       "  }\n",
       "  th, td {\n",
       "    padding: 5px;\n",
       "  }\n",
       "  th {\n",
       "    text-align: left;\n",
       "  }\n",
       "</style><div class='table-result-container'><table class='table-result'><thead style='background-color: white'><tr><th>EDUCATION</th><th>count</th></tr></thead><tbody><tr><td>0</td><td>42</td></tr><tr><td>4</td><td>89958</td></tr></tbody></table></div>"
      ]
     },
     "metadata": {
      "application/vnd.databricks.v1+output": {
       "addedWidgets": {},
       "aggData": [],
       "aggError": "",
       "aggOverflow": false,
       "aggSchema": [],
       "aggSeriesLimitReached": false,
       "aggType": "",
       "arguments": {},
       "columnCustomDisplayInfos": {},
       "data": [
        [
         "0",
         42
        ],
        [
         "4",
         89958
        ]
       ],
       "datasetInfos": [],
       "dbfsResultPath": null,
       "isJsonSchema": true,
       "metadata": {},
       "overflow": false,
       "plotOptions": {
        "customPlotOptions": {},
        "displayType": "table",
        "pivotAggregation": null,
        "pivotColumns": null,
        "xColumns": null,
        "yColumns": null
       },
       "removedWidgets": [],
       "schema": [
        {
         "metadata": "{}",
         "name": "EDUCATION",
         "type": "\"string\""
        },
        {
         "metadata": "{}",
         "name": "count",
         "type": "\"long\""
        }
       ],
       "type": "table"
      }
     },
     "output_type": "display_data"
    },
    {
     "output_type": "stream",
     "name": "stdout",
     "output_type": "stream",
     "text": [
      "\n----------------------------------------------------------------------\nDEFAULT FLAG DISTRIBUTION:\n----------------------------------------------------------------------\n"
     ]
    },
    {
     "output_type": "display_data",
     "data": {
      "text/html": [
       "<style scoped>\n",
       "  .table-result-container {\n",
       "    max-height: 300px;\n",
       "    overflow: auto;\n",
       "  }\n",
       "  table, th, td {\n",
       "    border: 1px solid black;\n",
       "    border-collapse: collapse;\n",
       "  }\n",
       "  th, td {\n",
       "    padding: 5px;\n",
       "  }\n",
       "  th {\n",
       "    text-align: left;\n",
       "  }\n",
       "</style><div class='table-result-container'><table class='table-result'><thead style='background-color: white'><tr><th>default</th><th>count</th></tr></thead><tbody><tr><td>Y</td><td>19908</td></tr><tr><td>N</td><td>70092</td></tr></tbody></table></div>"
      ]
     },
     "metadata": {
      "application/vnd.databricks.v1+output": {
       "addedWidgets": {},
       "aggData": [],
       "aggError": "",
       "aggOverflow": false,
       "aggSchema": [],
       "aggSeriesLimitReached": false,
       "aggType": "",
       "arguments": {},
       "columnCustomDisplayInfos": {},
       "data": [
        [
         "Y",
         19908
        ],
        [
         "N",
         70092
        ]
       ],
       "datasetInfos": [],
       "dbfsResultPath": null,
       "isJsonSchema": true,
       "metadata": {},
       "overflow": false,
       "plotOptions": {
        "customPlotOptions": {},
        "displayType": "table",
        "pivotAggregation": null,
        "pivotColumns": null,
        "xColumns": null,
        "yColumns": null
       },
       "removedWidgets": [],
       "schema": [
        {
         "metadata": "{}",
         "name": "default",
         "type": "\"string\""
        },
        {
         "metadata": "{}",
         "name": "count",
         "type": "\"long\""
        }
       ],
       "type": "table"
      }
     },
     "output_type": "display_data"
    },
    {
     "output_type": "stream",
     "name": "stdout",
     "output_type": "stream",
     "text": [
      "\n----------------------------------------------------------------------\nAVERAGE BILL AMOUNT STATISTICS:\n----------------------------------------------------------------------\n"
     ]
    },
    {
     "output_type": "display_data",
     "data": {
      "text/html": [
       "<style scoped>\n",
       "  .table-result-container {\n",
       "    max-height: 300px;\n",
       "    overflow: auto;\n",
       "  }\n",
       "  table, th, td {\n",
       "    border: 1px solid black;\n",
       "    border-collapse: collapse;\n",
       "  }\n",
       "  th, td {\n",
       "    padding: 5px;\n",
       "  }\n",
       "  th {\n",
       "    text-align: left;\n",
       "  }\n",
       "</style><div class='table-result-container'><table class='table-result'><thead style='background-color: white'><tr><th>summary</th><th>avg_bill_amt</th></tr></thead><tbody><tr><td>count</td><td>90000</td></tr><tr><td>mean</td><td>44976.94519999998</td></tr><tr><td>stddev</td><td>63260.018951766026</td></tr><tr><td>min</td><td>-56043.166666666664</td></tr><tr><td>max</td><td>877313.8333333334</td></tr></tbody></table></div>"
      ]
     },
     "metadata": {
      "application/vnd.databricks.v1+output": {
       "addedWidgets": {},
       "aggData": [],
       "aggError": "",
       "aggOverflow": false,
       "aggSchema": [],
       "aggSeriesLimitReached": false,
       "aggType": "",
       "arguments": {},
       "columnCustomDisplayInfos": {},
       "data": [
        [
         "count",
         "90000"
        ],
        [
         "mean",
         "44976.94519999998"
        ],
        [
         "stddev",
         "63260.018951766026"
        ],
        [
         "min",
         "-56043.166666666664"
        ],
        [
         "max",
         "877313.8333333334"
        ]
       ],
       "datasetInfos": [],
       "dbfsResultPath": null,
       "isJsonSchema": true,
       "metadata": {},
       "overflow": false,
       "plotOptions": {
        "customPlotOptions": {},
        "displayType": "table",
        "pivotAggregation": null,
        "pivotColumns": null,
        "xColumns": null,
        "yColumns": null
       },
       "removedWidgets": [],
       "schema": [
        {
         "metadata": "{}",
         "name": "summary",
         "type": "\"string\""
        },
        {
         "metadata": "{}",
         "name": "avg_bill_amt",
         "type": "\"string\""
        }
       ],
       "type": "table"
      }
     },
     "output_type": "display_data"
    },
    {
     "output_type": "stream",
     "name": "stdout",
     "output_type": "stream",
     "text": [
      "\n======================================================================\n✓ ALL SILVER LAYER TASKS COMPLETED SUCCESSFULLY!\n======================================================================\n"
     ]
    }
   ],
   "source": [
    "# Databricks notebook: silver_layer (Complete Version)\n",
    "from pyspark.sql.functions import col, when\n",
    "\n",
    "print(\"=\"*70)\n",
    "print(\"SILVER LAYER TRANSFORMATION\")\n",
    "print(\"=\"*70)\n",
    "\n",
    "\n",
    "# STEP 1: DEFINE PATHS (Using /mnt/cc mount)\n",
    "\n",
    "bronze_path = \"/mnt/cc/bronze/credit_default\"\n",
    "silver_path = \"/mnt/cc/silver/credit_default\"\n",
    "\n",
    "print(f\"\\n Bronze path: {bronze_path}\")\n",
    "print(f\" Silver path: {silver_path}\")\n",
    "\n",
    "\n",
    "# STEP 2: READ FROM BRONZE LAYER\n",
    "\n",
    "print(\"\\n\" + \"-\"*70)\n",
    "print(\"STEP 1: READING BRONZE DATA\")\n",
    "print(\"-\"*70)\n",
    "\n",
    "try:\n",
    "    df = spark.read.format(\"delta\").load(bronze_path)\n",
    "    row_count = df.count()\n",
    "    col_count = len(df.columns)\n",
    "    print(f\"✓ Successfully loaded bronze data\")\n",
    "    print(f\"  Rows: {row_count}\")\n",
    "    print(f\"  Columns: {col_count}\")\n",
    "    print(f\"  Columns: {df.columns}\")\n",
    "except Exception as e:\n",
    "    print(f\"✗ Error reading bronze layer: {e}\")\n",
    "    raise\n",
    "\n",
    "# STEP 3: DATA TRANSFORMATIONS\n",
    "\n",
    "print(\"\\n\" + \"-\"*70)\n",
    "print(\"STEP 2: DATA TRANSFORMATIONS\")\n",
    "print(\"-\"*70)\n",
    "\n",
    "# 3A: Convert numeric columns to double\n",
    "print(\"\\n3A. Converting numeric columns to double...\")\n",
    "num_cols = [c for c, t in df.dtypes if t in ('int', 'double', 'long', 'float')]\n",
    "print(f\"   Found {len(num_cols)} numeric columns:\")\n",
    "for c in num_cols:\n",
    "    print(f\"     - {c}\")\n",
    "    df = df.withColumn(c, col(c).cast('double'))\n",
    "print(\"   ✓ Conversion complete\")\n",
    "\n",
    "# 3B: Clean EDUCATION column (map invalid values to 4)\n",
    "print(\"\\n3B. Cleaning EDUCATION column...\")\n",
    "print(\"   - Mapping education values: 0,1,2,3 stay same, others become 4\")\n",
    "education_before = df.select(\"EDUCATION\").distinct().count()\n",
    "df = df.withColumn(\n",
    "    \"EDUCATION\",\n",
    "    when(col(\"EDUCATION\").isin(0, 1, 2, 3), col(\"EDUCATION\")).otherwise(4)\n",
    ")\n",
    "education_after = df.select(\"EDUCATION\").distinct().count()\n",
    "print(f\"   ✓ Education values before: {education_before}, after: {education_after}\")\n",
    "\n",
    "# 3C: Calculate average bill amount\n",
    "print(\"\\n3C. Calculating average bill amount...\")\n",
    "print(\"   - Formula: (BILL_AMT1 + BILL_AMT2 + BILL_AMT3 + BILL_AMT4 + BILL_AMT5 + BILL_AMT6) / 6\")\n",
    "df = df.withColumn(\n",
    "    \"avg_bill_amt\",\n",
    "    (\n",
    "        col(\"BILL_AMT1\") + col(\"BILL_AMT2\") + col(\"BILL_AMT3\") +\n",
    "        col(\"BILL_AMT4\") + col(\"BILL_AMT5\") + col(\"BILL_AMT6\")\n",
    "    ) / 6\n",
    ")\n",
    "print(\"   ✓ Average bill amount calculated\")\n",
    "\n",
    "print(f\"\\n✓ All data transformations complete\")\n",
    "print(f\"  Total columns after transformation: {len(df.columns)}\")\n",
    "\n",
    "\n",
    "# STEP 4: WRITE TO SILVER LAYER\n",
    "\n",
    "print(\"\\n\" + \"-\"*70)\n",
    "print(\"STEP 3: WRITING TO SILVER LAYER\")\n",
    "print(\"-\"*70)\n",
    "\n",
    "try:\n",
    "    # Create silver directory if it doesn't exist\n",
    "    print(f\"\\nCreating silver directory: {silver_path}\")\n",
    "    dbutils.fs.mkdirs(silver_path)\n",
    "    print(\"✓ Directory created/exists\")\n",
    "    \n",
    "    print(f\"\\nWriting delta table...\")\n",
    "    df.write \\\n",
    "        .format(\"delta\") \\\n",
    "        .mode(\"overwrite\") \\\n",
    "        .option(\"overwriteSchema\", \"true\") \\\n",
    "        .save(silver_path)\n",
    "    \n",
    "    print(f\"✓ Successfully written {row_count} rows to silver layer\")\n",
    "    print(f\"✓ Location: {silver_path}\")\n",
    "except Exception as e:\n",
    "    print(f\"✗ Error writing to silver layer: {e}\")\n",
    "    raise\n",
    "\n",
    "# STEP 5: CREATE DATABASE AND TABLE\n",
    "\n",
    "print(\"\\n\" + \"-\"*70)\n",
    "print(\"STEP 4: CREATING DATABASE AND TABLE\")\n",
    "print(\"-\"*70)\n",
    "\n",
    "try:\n",
    "    print(\"\\nCreating database: credit_risk\")\n",
    "    spark.sql(\"CREATE DATABASE IF NOT EXISTS credit_risk\")\n",
    "    print(\"✓ Database created/exists\")\n",
    "    \n",
    "    # Register the Delta table using the mounted path\n",
    "    print(\"\\nCreating table: credit_risk.silver_credit_default\")\n",
    "    spark.sql(f\"\"\"\n",
    "        CREATE TABLE IF NOT EXISTS credit_risk.silver_credit_default\n",
    "        USING DELTA\n",
    "        LOCATION '{silver_path}'\n",
    "    \"\"\")\n",
    "    print(\"✓ Table created/exists\")\n",
    "    print(f\"✓ Table location: {silver_path}\")\n",
    "except Exception as e:\n",
    "    print(f\"Warning: Could not create table: {e}\")\n",
    "    print(\"But data is safely written to silver layer\")\n",
    "\n",
    "# STEP 6: DISPLAY RESULTS\n",
    "\n",
    "print(\"\\n\" + \"=\"*70)\n",
    "print(\"✓ SILVER LAYER TRANSFORMATION COMPLETE!\")\n",
    "print(\"=\"*70)\n",
    "\n",
    "print(f\"\\n\uD83D\uDCCA SUMMARY:\")\n",
    "print(f\"  Database: credit_risk\")\n",
    "print(f\"  Table: silver_credit_default\")\n",
    "print(f\"  Location: {silver_path}\")\n",
    "print(f\"  Total Rows: {row_count:,}\")\n",
    "print(f\"  Total Columns: {len(df.columns)}\")\n",
    "\n",
    "print(\"\\n\" + \"-\"*70)\n",
    "print(\"COLUMN NAMES:\")\n",
    "print(\"-\"*70)\n",
    "for i, col_name in enumerate(df.columns, 1):\n",
    "    print(f\"  {i:2d}. {col_name}\")\n",
    "\n",
    "print(\"\\n\" + \"-\"*70)\n",
    "print(\"SAMPLE DATA (First 10 rows):\")\n",
    "print(\"-\"*70)\n",
    "display(df.limit(10))\n",
    "\n",
    "print(\"\\n\" + \"-\"*70)\n",
    "print(\"DATA SCHEMA:\")\n",
    "print(\"-\"*70)\n",
    "df.printSchema()\n",
    "\n",
    "print(\"\\n\" + \"-\"*70)\n",
    "print(\"SUMMARY STATISTICS:\")\n",
    "print(\"-\"*70)\n",
    "display(df.describe())\n",
    "\n",
    "print(\"\\n\" + \"-\"*70)\n",
    "print(\"DATA QUALITY CHECKS:\")\n",
    "print(\"-\"*70)\n",
    "print(\"\\nNull values by column:\")\n",
    "\n",
    "# Simple null check using SQL/Spark operations (no serialization issues)\n",
    "from pyspark.sql.functions import sum as spark_sum, when\n",
    "\n",
    "for col_name in df.columns:\n",
    "    null_count = df.filter(col(col_name).isNull()).count()\n",
    "    if null_count > 0:\n",
    "        print(f\"  {col_name}: {null_count} nulls\")\n",
    "    else:\n",
    "        print(f\"  {col_name}: 0 nulls ✓\")\n",
    "\n",
    "print(\"\\n\" + \"-\"*70)\n",
    "print(\"EDUCATION VALUE DISTRIBUTION:\")\n",
    "print(\"-\"*70)\n",
    "display(df.groupBy(\"EDUCATION\").count())\n",
    "\n",
    "print(\"\\n\" + \"-\"*70)\n",
    "print(\"DEFAULT FLAG DISTRIBUTION:\")\n",
    "print(\"-\"*70)\n",
    "display(df.groupBy(\"default\").count())\n",
    "\n",
    "print(\"\\n\" + \"-\"*70)\n",
    "print(\"AVERAGE BILL AMOUNT STATISTICS:\")\n",
    "print(\"-\"*70)\n",
    "display(df.select(\n",
    "    col(\"avg_bill_amt\").alias(\"avg_bill_amt\")\n",
    ").describe())\n",
    "\n",
    "print(\"\\n\" + \"=\"*70)\n",
    "print(\"✓ ALL SILVER LAYER TASKS COMPLETED SUCCESSFULLY!\")\n",
    "print(\"=\"*70)"
   ]
  },
  {
   "cell_type": "code",
   "execution_count": 0,
   "metadata": {
    "application/vnd.databricks.v1+cell": {
     "cellMetadata": {},
     "inputWidgets": {},
     "nuid": "d10a523b-891d-4a3a-8191-470614dd270d",
     "showTitle": false,
     "tableResultSettingsMap": {},
     "title": ""
    }
   },
   "outputs": [],
   "source": []
  }
 ],
 "metadata": {
  "application/vnd.databricks.v1+notebook": {
   "computePreferences": null,
   "dashboards": [],
   "environmentMetadata": {
    "base_environment": "",
    "environment_version": "4"
   },
   "inputWidgetPreferences": null,
   "language": "python",
   "notebookMetadata": {
    "pythonIndentUnit": 4
   },
   "notebookName": "2.Silver",
   "widgets": {}
  },
  "language_info": {
   "name": "python"
  }
 },
 "nbformat": 4,
 "nbformat_minor": 0
}