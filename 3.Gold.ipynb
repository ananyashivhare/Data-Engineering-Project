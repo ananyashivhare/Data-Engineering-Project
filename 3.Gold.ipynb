{
 "cells": [
  {
   "cell_type": "code",
   "execution_count": 0,
   "metadata": {
    "application/vnd.databricks.v1+cell": {
     "cellMetadata": {
      "byteLimit": 2048000,
      "rowLimit": 10000
     },
     "inputWidgets": {},
     "nuid": "1fa09a50-f443-4d07-9225-cfc9ed728afd",
     "showTitle": false,
     "tableResultSettingsMap": {},
     "title": ""
    }
   },
   "outputs": [
    {
     "output_type": "stream",
     "name": "stdout",
     "output_type": "stream",
     "text": [
      "======================================================================\nGOLD LAYER - ANALYTICS & AGGREGATIONS\n======================================================================\n\nSilver path: /mnt/cc/silver/credit_default\nGold path: /mnt/cc/gold/credit_default\n\n----------------------------------------------------------------------\nSTEP 1: READING SILVER DATA\n----------------------------------------------------------------------\nSuccessfully loaded silver data\n  Rows: 90,000\n  Columns: 27\n\n----------------------------------------------------------------------\nSTEP 2: CREATING GOLD LAYER AGGREGATIONS\n----------------------------------------------------------------------\n\n3A. Creating customer-level aggregations...\n  Customer-level aggregations created\n\n3B. Creating risk segment analysis...\n  Risk segment analysis created\n\n3C. Creating education level analysis...\n  Education level analysis created\n\n3D. Creating age group analysis...\n  Age group analysis created\n\n3E. Creating gender analysis...\n  Gender analysis created\n\n3F. Creating default prediction scorecard...\n  Default prediction scorecard created\n\nAll gold layer aggregations created successfully\n\n----------------------------------------------------------------------\nSTEP 3: CREATING & REGISTERING GOLD LAYER TABLES IN CATALOG\n----------------------------------------------------------------------\n\nCreating database...\nDatabase created: credit_risk\n\nCreating managed tables in Catalog...\n\nCreating table: credit_risk.gold_customer_agg\n  Success: 30,000 records\n\nCreating table: credit_risk.gold_risk_segments\n  Success: 18 records\n\nCreating table: credit_risk.gold_education_agg\n  Success: 2 records\n\nCreating table: credit_risk.gold_age_group_agg\n  Success: 10 records\n\nCreating table: credit_risk.gold_gender_agg\n  Success: 4 records\n\nCreating table: credit_risk.gold_scorecard\n  Success: 24 records\n\n======================================================================\nALL TABLES CREATED SUCCESSFULLY AND VISIBLE IN CATALOG\n======================================================================\n\n----------------------------------------------------------------------\nSTEP 4: VERIFYING TABLES IN CATALOG\n----------------------------------------------------------------------\n\nTables created in credit_risk database:\n"
     ]
    },
    {
     "output_type": "display_data",
     "data": {
      "text/html": [
       "<style scoped>\n",
       "  .table-result-container {\n",
       "    max-height: 300px;\n",
       "    overflow: auto;\n",
       "  }\n",
       "  table, th, td {\n",
       "    border: 1px solid black;\n",
       "    border-collapse: collapse;\n",
       "  }\n",
       "  th, td {\n",
       "    padding: 5px;\n",
       "  }\n",
       "  th {\n",
       "    text-align: left;\n",
       "  }\n",
       "</style><div class='table-result-container'><table class='table-result'><thead style='background-color: white'><tr><th>database</th><th>tableName</th><th>isTemporary</th></tr></thead><tbody><tr><td>credit_risk</td><td>gold_age_group_agg</td><td>false</td></tr><tr><td>credit_risk</td><td>gold_customer_agg</td><td>false</td></tr><tr><td>credit_risk</td><td>gold_education_agg</td><td>false</td></tr><tr><td>credit_risk</td><td>gold_gender_agg</td><td>false</td></tr><tr><td>credit_risk</td><td>gold_risk_segments</td><td>false</td></tr><tr><td>credit_risk</td><td>gold_scorecard</td><td>false</td></tr></tbody></table></div>"
      ]
     },
     "metadata": {
      "application/vnd.databricks.v1+output": {
       "addedWidgets": {},
       "aggData": [],
       "aggError": "",
       "aggOverflow": false,
       "aggSchema": [],
       "aggSeriesLimitReached": false,
       "aggType": "",
       "arguments": {},
       "columnCustomDisplayInfos": {},
       "data": [
        [
         "credit_risk",
         "gold_age_group_agg",
         false
        ],
        [
         "credit_risk",
         "gold_customer_agg",
         false
        ],
        [
         "credit_risk",
         "gold_education_agg",
         false
        ],
        [
         "credit_risk",
         "gold_gender_agg",
         false
        ],
        [
         "credit_risk",
         "gold_risk_segments",
         false
        ],
        [
         "credit_risk",
         "gold_scorecard",
         false
        ]
       ],
       "datasetInfos": [],
       "dbfsResultPath": null,
       "isJsonSchema": true,
       "metadata": {},
       "overflow": false,
       "plotOptions": {
        "customPlotOptions": {},
        "displayType": "table",
        "pivotAggregation": null,
        "pivotColumns": null,
        "xColumns": null,
        "yColumns": null
       },
       "removedWidgets": [],
       "schema": [
        {
         "metadata": "{}",
         "name": "database",
         "type": "\"string\""
        },
        {
         "metadata": "{}",
         "name": "tableName",
         "type": "\"string\""
        },
        {
         "metadata": "{}",
         "name": "isTemporary",
         "type": "\"boolean\""
        }
       ],
       "type": "table"
      }
     },
     "output_type": "display_data"
    },
    {
     "output_type": "stream",
     "name": "stdout",
     "output_type": "stream",
     "text": [
      "\n======================================================================\nGOLD LAYER ANALYTICS - DATA PREVIEW\n======================================================================\n\n----------------------------------------------------------------------\nTABLE 1: CUSTOMER AGGREGATIONS (Sample)\n----------------------------------------------------------------------\nTotal customers: 30,000\n"
     ]
    },
    {
     "output_type": "display_data",
     "data": {
      "text/html": [
       "<style scoped>\n",
       "  .table-result-container {\n",
       "    max-height: 300px;\n",
       "    overflow: auto;\n",
       "  }\n",
       "  table, th, td {\n",
       "    border: 1px solid black;\n",
       "    border-collapse: collapse;\n",
       "  }\n",
       "  th, td {\n",
       "    padding: 5px;\n",
       "  }\n",
       "  th {\n",
       "    text-align: left;\n",
       "  }\n",
       "</style><div class='table-result-container'><table class='table-result'><thead style='background-color: white'><tr><th>ID</th><th>LIMIT_BAL</th><th>SEX</th><th>EDUCATION</th><th>MARRIAGE</th><th>AGE</th><th>latest_pay_status</th><th>avg_pay_status</th><th>avg_monthly_bill</th><th>max_monthly_bill</th><th>min_monthly_bill</th><th>avg_bill_6months</th><th>avg_monthly_payment</th><th>max_monthly_payment</th><th>min_monthly_payment</th><th>utilization_ratio</th><th>default_flag</th><th>record_count</th></tr></thead><tbody><tr><td>299.0</td><td>280000.0</td><td>F</td><td>4</td><td>Married</td><td>36.0</td><td>0.0</td><td>0.0</td><td>58983.0</td><td>58983.0</td><td>58983.0</td><td>45606.666666666664</td><td>2755.0</td><td>2755.0</td><td>2755.0</td><td>21.07</td><td>N</td><td>3</td></tr><tr><td>305.0</td><td>200000.0</td><td>F</td><td>4</td><td>Single</td><td>27.0</td><td>-1.0</td><td>-1.0</td><td>871.0</td><td>871.0</td><td>871.0</td><td>3039.3333333333335</td><td>665.0</td><td>665.0</td><td>665.0</td><td>0.44</td><td>N</td><td>3</td></tr><tr><td>496.0</td><td>50000.0</td><td>M</td><td>4</td><td>Married</td><td>41.0</td><td>-1.0</td><td>-1.0</td><td>508.0</td><td>508.0</td><td>508.0</td><td>389.3333333333333</td><td>1000.0</td><td>1000.0</td><td>1000.0</td><td>1.02</td><td>N</td><td>3</td></tr><tr><td>596.0</td><td>200000.0</td><td>M</td><td>4</td><td>Married</td><td>43.0</td><td>0.0</td><td>0.0</td><td>144678.0</td><td>144678.0</td><td>144678.0</td><td>137685.0</td><td>5090.0</td><td>5090.0</td><td>5090.0</td><td>72.34</td><td>N</td><td>3</td></tr><tr><td>692.0</td><td>170000.0</td><td>M</td><td>4</td><td>Single</td><td>27.0</td><td>-1.0</td><td>-1.0</td><td>1170.0</td><td>1170.0</td><td>1170.0</td><td>325.0</td><td>0.0</td><td>0.0</td><td>0.0</td><td>0.69</td><td>N</td><td>3</td></tr><tr><td>769.0</td><td>220000.0</td><td>M</td><td>4</td><td>Married</td><td>40.0</td><td>-1.0</td><td>-1.0</td><td>158.0</td><td>158.0</td><td>158.0</td><td>128.33333333333334</td><td>0.0</td><td>0.0</td><td>0.0</td><td>0.07</td><td>N</td><td>3</td></tr><tr><td>934.0</td><td>30000.0</td><td>M</td><td>4</td><td>Single</td><td>32.0</td><td>2.0</td><td>2.0</td><td>7851.0</td><td>7851.0</td><td>7851.0</td><td>10852.0</td><td>1500.0</td><td>1500.0</td><td>1500.0</td><td>26.17</td><td>Y</td><td>3</td></tr><tr><td>1051.0</td><td>110000.0</td><td>M</td><td>4</td><td>Single</td><td>31.0</td><td>2.0</td><td>2.0</td><td>279.0</td><td>279.0</td><td>279.0</td><td>237.33333333333334</td><td>0.0</td><td>0.0</td><td>0.0</td><td>0.25</td><td>N</td><td>3</td></tr><tr><td>1761.0</td><td>290000.0</td><td>F</td><td>4</td><td>Married</td><td>33.0</td><td>1.0</td><td>1.0</td><td>7064.0</td><td>7064.0</td><td>7064.0</td><td>9723.5</td><td>0.0</td><td>0.0</td><td>0.0</td><td>2.44</td><td>N</td><td>3</td></tr><tr><td>2734.0</td><td>170000.0</td><td>F</td><td>4</td><td>Single</td><td>31.0</td><td>2.0</td><td>2.0</td><td>520.0</td><td>520.0</td><td>520.0</td><td>3081.6666666666665</td><td>1339.0</td><td>1339.0</td><td>1339.0</td><td>0.31</td><td>N</td><td>3</td></tr></tbody></table></div>"
      ]
     },
     "metadata": {
      "application/vnd.databricks.v1+output": {
       "addedWidgets": {},
       "aggData": [],
       "aggError": "",
       "aggOverflow": false,
       "aggSchema": [],
       "aggSeriesLimitReached": false,
       "aggType": "",
       "arguments": {},
       "columnCustomDisplayInfos": {},
       "data": [
        [
         299.0,
         280000.0,
         "F",
         "4",
         "Married",
         36.0,
         0.0,
         0.0,
         58983.0,
         58983.0,
         58983.0,
         45606.666666666664,
         2755.0,
         2755.0,
         2755.0,
         21.07,
         "N",
         3
        ],
        [
         305.0,
         200000.0,
         "F",
         "4",
         "Single",
         27.0,
         -1.0,
         -1.0,
         871.0,
         871.0,
         871.0,
         3039.3333333333335,
         665.0,
         665.0,
         665.0,
         0.44,
         "N",
         3
        ],
        [
         496.0,
         50000.0,
         "M",
         "4",
         "Married",
         41.0,
         -1.0,
         -1.0,
         508.0,
         508.0,
         508.0,
         389.3333333333333,
         1000.0,
         1000.0,
         1000.0,
         1.02,
         "N",
         3
        ],
        [
         596.0,
         200000.0,
         "M",
         "4",
         "Married",
         43.0,
         0.0,
         0.0,
         144678.0,
         144678.0,
         144678.0,
         137685.0,
         5090.0,
         5090.0,
         5090.0,
         72.34,
         "N",
         3
        ],
        [
         692.0,
         170000.0,
         "M",
         "4",
         "Single",
         27.0,
         -1.0,
         -1.0,
         1170.0,
         1170.0,
         1170.0,
         325.0,
         0.0,
         0.0,
         0.0,
         0.69,
         "N",
         3
        ],
        [
         769.0,
         220000.0,
         "M",
         "4",
         "Married",
         40.0,
         -1.0,
         -1.0,
         158.0,
         158.0,
         158.0,
         128.33333333333334,
         0.0,
         0.0,
         0.0,
         0.07,
         "N",
         3
        ],
        [
         934.0,
         30000.0,
         "M",
         "4",
         "Single",
         32.0,
         2.0,
         2.0,
         7851.0,
         7851.0,
         7851.0,
         10852.0,
         1500.0,
         1500.0,
         1500.0,
         26.17,
         "Y",
         3
        ],
        [
         1051.0,
         110000.0,
         "M",
         "4",
         "Single",
         31.0,
         2.0,
         2.0,
         279.0,
         279.0,
         279.0,
         237.33333333333334,
         0.0,
         0.0,
         0.0,
         0.25,
         "N",
         3
        ],
        [
         1761.0,
         290000.0,
         "F",
         "4",
         "Married",
         33.0,
         1.0,
         1.0,
         7064.0,
         7064.0,
         7064.0,
         9723.5,
         0.0,
         0.0,
         0.0,
         2.44,
         "N",
         3
        ],
        [
         2734.0,
         170000.0,
         "F",
         "4",
         "Single",
         31.0,
         2.0,
         2.0,
         520.0,
         520.0,
         520.0,
         3081.6666666666665,
         1339.0,
         1339.0,
         1339.0,
         0.31,
         "N",
         3
        ]
       ],
       "datasetInfos": [],
       "dbfsResultPath": null,
       "isJsonSchema": true,
       "metadata": {},
       "overflow": false,
       "plotOptions": {
        "customPlotOptions": {},
        "displayType": "table",
        "pivotAggregation": null,
        "pivotColumns": null,
        "xColumns": null,
        "yColumns": null
       },
       "removedWidgets": [],
       "schema": [
        {
         "metadata": "{}",
         "name": "ID",
         "type": "\"double\""
        },
        {
         "metadata": "{}",
         "name": "LIMIT_BAL",
         "type": "\"double\""
        },
        {
         "metadata": "{}",
         "name": "SEX",
         "type": "\"string\""
        },
        {
         "metadata": "{}",
         "name": "EDUCATION",
         "type": "\"string\""
        },
        {
         "metadata": "{}",
         "name": "MARRIAGE",
         "type": "\"string\""
        },
        {
         "metadata": "{}",
         "name": "AGE",
         "type": "\"double\""
        },
        {
         "metadata": "{}",
         "name": "latest_pay_status",
         "type": "\"double\""
        },
        {
         "metadata": "{}",
         "name": "avg_pay_status",
         "type": "\"double\""
        },
        {
         "metadata": "{}",
         "name": "avg_monthly_bill",
         "type": "\"double\""
        },
        {
         "metadata": "{}",
         "name": "max_monthly_bill",
         "type": "\"double\""
        },
        {
         "metadata": "{}",
         "name": "min_monthly_bill",
         "type": "\"double\""
        },
        {
         "metadata": "{}",
         "name": "avg_bill_6months",
         "type": "\"double\""
        },
        {
         "metadata": "{}",
         "name": "avg_monthly_payment",
         "type": "\"double\""
        },
        {
         "metadata": "{}",
         "name": "max_monthly_payment",
         "type": "\"double\""
        },
        {
         "metadata": "{}",
         "name": "min_monthly_payment",
         "type": "\"double\""
        },
        {
         "metadata": "{}",
         "name": "utilization_ratio",
         "type": "\"double\""
        },
        {
         "metadata": "{}",
         "name": "default_flag",
         "type": "\"string\""
        },
        {
         "metadata": "{}",
         "name": "record_count",
         "type": "\"long\""
        }
       ],
       "type": "table"
      }
     },
     "output_type": "display_data"
    },
    {
     "output_type": "stream",
     "name": "stdout",
     "output_type": "stream",
     "text": [
      "\n----------------------------------------------------------------------\nTABLE 2: RISK SEGMENTS\n----------------------------------------------------------------------\n"
     ]
    },
    {
     "output_type": "display_data",
     "data": {
      "text/html": [
       "<style scoped>\n",
       "  .table-result-container {\n",
       "    max-height: 300px;\n",
       "    overflow: auto;\n",
       "  }\n",
       "  table, th, td {\n",
       "    border: 1px solid black;\n",
       "    border-collapse: collapse;\n",
       "  }\n",
       "  th, td {\n",
       "    padding: 5px;\n",
       "  }\n",
       "  th {\n",
       "    text-align: left;\n",
       "  }\n",
       "</style><div class='table-result-container'><table class='table-result'><thead style='background-color: white'><tr><th>spending_segment</th><th>payment_status_segment</th><th>default_flag</th><th>customer_count</th><th>avg_credit_limit</th><th>avg_bill_amount</th><th>avg_age</th><th>default_rate_pct</th></tr></thead><tbody><tr><td>Low Spender</td><td>Good Standing</td><td>N</td><td>28809</td><td>176419.45</td><td>6994.56</td><td>35.4</td><td>0.0</td></tr><tr><td>High Spender</td><td>Good Standing</td><td>N</td><td>18726</td><td>223373.92</td><td>122196.27</td><td>35.9</td><td>0.0</td></tr><tr><td>Medium Spender</td><td>Good Standing</td><td>N</td><td>14859</td><td>136157.08</td><td>33452.31</td><td>34.9</td><td>0.0</td></tr><tr><td>Low Spender</td><td>Good Standing</td><td>Y</td><td>7134</td><td>134108.49</td><td>6718.0</td><td>35.8</td><td>100.0</td></tr><tr><td>Low Spender</td><td>Revolving</td><td>N</td><td>5097</td><td>169140.67</td><td>4405.53</td><td>35.2</td><td>0.0</td></tr><tr><td>High Spender</td><td>Good Standing</td><td>Y</td><td>4233</td><td>181444.14</td><td>126148.53</td><td>36.5</td><td>100.0</td></tr><tr><td>Medium Spender</td><td>Good Standing</td><td>Y</td><td>3786</td><td>78851.03</td><td>33403.78</td><td>34.5</td><td>100.0</td></tr><tr><td>Low Spender</td><td>Revolving</td><td>Y</td><td>2388</td><td>136444.72</td><td>5359.15</td><td>36.4</td><td>100.0</td></tr><tr><td>Medium Spender</td><td>Revolving</td><td>N</td><td>1215</td><td>96148.15</td><td>32891.06</td><td>35.0</td><td>0.0</td></tr><tr><td>High Spender</td><td>Revolving</td><td>N</td><td>996</td><td>189006.02</td><td>117546.58</td><td>34.7</td><td>0.0</td></tr><tr><td>Medium Spender</td><td>Revolving</td><td>Y</td><td>747</td><td>67911.65</td><td>32748.41</td><td>35.3</td><td>100.0</td></tr><tr><td>High Spender</td><td>Revolving</td><td>Y</td><td>621</td><td>165120.77</td><td>114950.37</td><td>35.7</td><td>100.0</td></tr><tr><td>Low Spender</td><td>Delinquent</td><td>Y</td><td>486</td><td>67098.77</td><td>7866.2</td><td>34.8</td><td>100.0</td></tr><tr><td>Medium Spender</td><td>Delinquent</td><td>Y</td><td>279</td><td>52150.54</td><td>33327.69</td><td>34.8</td><td>100.0</td></tr><tr><td>High Spender</td><td>Delinquent</td><td>Y</td><td>234</td><td>173717.95</td><td>150703.62</td><td>35.8</td><td>100.0</td></tr><tr><td>Low Spender</td><td>Delinquent</td><td>N</td><td>156</td><td>53461.54</td><td>9242.95</td><td>36.3</td><td>0.0</td></tr><tr><td>Medium Spender</td><td>Delinquent</td><td>N</td><td>129</td><td>45348.84</td><td>33936.92</td><td>35.3</td><td>0.0</td></tr><tr><td>High Spender</td><td>Delinquent</td><td>N</td><td>105</td><td>128285.71</td><td>98849.85</td><td>38.7</td><td>0.0</td></tr></tbody></table></div>"
      ]
     },
     "metadata": {
      "application/vnd.databricks.v1+output": {
       "addedWidgets": {},
       "aggData": [],
       "aggError": "",
       "aggOverflow": false,
       "aggSchema": [],
       "aggSeriesLimitReached": false,
       "aggType": "",
       "arguments": {},
       "columnCustomDisplayInfos": {},
       "data": [
        [
         "Low Spender",
         "Good Standing",
         "N",
         28809,
         176419.45,
         6994.56,
         35.4,
         0.0
        ],
        [
         "High Spender",
         "Good Standing",
         "N",
         18726,
         223373.92,
         122196.27,
         35.9,
         0.0
        ],
        [
         "Medium Spender",
         "Good Standing",
         "N",
         14859,
         136157.08,
         33452.31,
         34.9,
         0.0
        ],
        [
         "Low Spender",
         "Good Standing",
         "Y",
         7134,
         134108.49,
         6718.0,
         35.8,
         100.0
        ],
        [
         "Low Spender",
         "Revolving",
         "N",
         5097,
         169140.67,
         4405.53,
         35.2,
         0.0
        ],
        [
         "High Spender",
         "Good Standing",
         "Y",
         4233,
         181444.14,
         126148.53,
         36.5,
         100.0
        ],
        [
         "Medium Spender",
         "Good Standing",
         "Y",
         3786,
         78851.03,
         33403.78,
         34.5,
         100.0
        ],
        [
         "Low Spender",
         "Revolving",
         "Y",
         2388,
         136444.72,
         5359.15,
         36.4,
         100.0
        ],
        [
         "Medium Spender",
         "Revolving",
         "N",
         1215,
         96148.15,
         32891.06,
         35.0,
         0.0
        ],
        [
         "High Spender",
         "Revolving",
         "N",
         996,
         189006.02,
         117546.58,
         34.7,
         0.0
        ],
        [
         "Medium Spender",
         "Revolving",
         "Y",
         747,
         67911.65,
         32748.41,
         35.3,
         100.0
        ],
        [
         "High Spender",
         "Revolving",
         "Y",
         621,
         165120.77,
         114950.37,
         35.7,
         100.0
        ],
        [
         "Low Spender",
         "Delinquent",
         "Y",
         486,
         67098.77,
         7866.2,
         34.8,
         100.0
        ],
        [
         "Medium Spender",
         "Delinquent",
         "Y",
         279,
         52150.54,
         33327.69,
         34.8,
         100.0
        ],
        [
         "High Spender",
         "Delinquent",
         "Y",
         234,
         173717.95,
         150703.62,
         35.8,
         100.0
        ],
        [
         "Low Spender",
         "Delinquent",
         "N",
         156,
         53461.54,
         9242.95,
         36.3,
         0.0
        ],
        [
         "Medium Spender",
         "Delinquent",
         "N",
         129,
         45348.84,
         33936.92,
         35.3,
         0.0
        ],
        [
         "High Spender",
         "Delinquent",
         "N",
         105,
         128285.71,
         98849.85,
         38.7,
         0.0
        ]
       ],
       "datasetInfos": [],
       "dbfsResultPath": null,
       "isJsonSchema": true,
       "metadata": {},
       "overflow": false,
       "plotOptions": {
        "customPlotOptions": {},
        "displayType": "table",
        "pivotAggregation": null,
        "pivotColumns": null,
        "xColumns": null,
        "yColumns": null
       },
       "removedWidgets": [],
       "schema": [
        {
         "metadata": "{}",
         "name": "spending_segment",
         "type": "\"string\""
        },
        {
         "metadata": "{}",
         "name": "payment_status_segment",
         "type": "\"string\""
        },
        {
         "metadata": "{}",
         "name": "default_flag",
         "type": "\"string\""
        },
        {
         "metadata": "{}",
         "name": "customer_count",
         "type": "\"long\""
        },
        {
         "metadata": "{}",
         "name": "avg_credit_limit",
         "type": "\"double\""
        },
        {
         "metadata": "{}",
         "name": "avg_bill_amount",
         "type": "\"double\""
        },
        {
         "metadata": "{}",
         "name": "avg_age",
         "type": "\"double\""
        },
        {
         "metadata": "{}",
         "name": "default_rate_pct",
         "type": "\"double\""
        }
       ],
       "type": "table"
      }
     },
     "output_type": "display_data"
    },
    {
     "output_type": "stream",
     "name": "stdout",
     "output_type": "stream",
     "text": [
      "\n----------------------------------------------------------------------\nTABLE 3: EDUCATION LEVEL ANALYSIS\n----------------------------------------------------------------------\n"
     ]
    },
    {
     "output_type": "display_data",
     "data": {
      "text/html": [
       "<style scoped>\n",
       "  .table-result-container {\n",
       "    max-height: 300px;\n",
       "    overflow: auto;\n",
       "  }\n",
       "  table, th, td {\n",
       "    border: 1px solid black;\n",
       "    border-collapse: collapse;\n",
       "  }\n",
       "  th, td {\n",
       "    padding: 5px;\n",
       "  }\n",
       "  th {\n",
       "    text-align: left;\n",
       "  }\n",
       "</style><div class='table-result-container'><table class='table-result'><thead style='background-color: white'><tr><th>EDUCATION</th><th>customer_count</th><th>avg_credit_limit</th><th>avg_bill_amount</th><th>avg_age</th><th>default_rate_pct</th></tr></thead><tbody><tr><td>0</td><td>42</td><td>217142.86</td><td>10898.55</td><td>38.9</td><td>0.0</td></tr><tr><td>4</td><td>89958</td><td>167461.14</td><td>44992.86</td><td>35.5</td><td>22.13</td></tr></tbody></table></div>"
      ]
     },
     "metadata": {
      "application/vnd.databricks.v1+output": {
       "addedWidgets": {},
       "aggData": [],
       "aggError": "",
       "aggOverflow": false,
       "aggSchema": [],
       "aggSeriesLimitReached": false,
       "aggType": "",
       "arguments": {},
       "columnCustomDisplayInfos": {},
       "data": [
        [
         "0",
         42,
         217142.86,
         10898.55,
         38.9,
         0.0
        ],
        [
         "4",
         89958,
         167461.14,
         44992.86,
         35.5,
         22.13
        ]
       ],
       "datasetInfos": [],
       "dbfsResultPath": null,
       "isJsonSchema": true,
       "metadata": {},
       "overflow": false,
       "plotOptions": {
        "customPlotOptions": {},
        "displayType": "table",
        "pivotAggregation": null,
        "pivotColumns": null,
        "xColumns": null,
        "yColumns": null
       },
       "removedWidgets": [],
       "schema": [
        {
         "metadata": "{}",
         "name": "EDUCATION",
         "type": "\"string\""
        },
        {
         "metadata": "{}",
         "name": "customer_count",
         "type": "\"long\""
        },
        {
         "metadata": "{}",
         "name": "avg_credit_limit",
         "type": "\"double\""
        },
        {
         "metadata": "{}",
         "name": "avg_bill_amount",
         "type": "\"double\""
        },
        {
         "metadata": "{}",
         "name": "avg_age",
         "type": "\"double\""
        },
        {
         "metadata": "{}",
         "name": "default_rate_pct",
         "type": "\"double\""
        }
       ],
       "type": "table"
      }
     },
     "output_type": "display_data"
    },
    {
     "output_type": "stream",
     "name": "stdout",
     "output_type": "stream",
     "text": [
      "\n----------------------------------------------------------------------\nTABLE 4: AGE GROUP ANALYSIS\n----------------------------------------------------------------------\n"
     ]
    },
    {
     "output_type": "display_data",
     "data": {
      "text/html": [
       "<style scoped>\n",
       "  .table-result-container {\n",
       "    max-height: 300px;\n",
       "    overflow: auto;\n",
       "  }\n",
       "  table, th, td {\n",
       "    border: 1px solid black;\n",
       "    border-collapse: collapse;\n",
       "  }\n",
       "  th, td {\n",
       "    padding: 5px;\n",
       "  }\n",
       "  th {\n",
       "    text-align: left;\n",
       "  }\n",
       "</style><div class='table-result-container'><table class='table-result'><thead style='background-color: white'><tr><th>age_group</th><th>default_flag</th><th>customer_count</th><th>avg_credit_limit</th><th>avg_bill_amount</th><th>avg_age</th></tr></thead><tbody><tr><td>18-24</td><td>N</td><td>5865</td><td>64143.22</td><td>25966.52</td><td>23.2</td></tr><tr><td>18-24</td><td>Y</td><td>2190</td><td>52465.75</td><td>25385.31</td><td>23.1</td></tr><tr><td>25-34</td><td>Y</td><td>7923</td><td>131188.94</td><td>44362.85</td><td>29.2</td></tr><tr><td>25-34</td><td>N</td><td>31110</td><td>180718.42</td><td>46418.3</td><td>29.4</td></tr><tr><td>35-44</td><td>Y</td><td>5913</td><td>153910.54</td><td>50286.82</td><td>39.1</td></tr><tr><td>35-44</td><td>N</td><td>21141</td><td>204660.14</td><td>47785.89</td><td>39.0</td></tr><tr><td>45-54</td><td>N</td><td>9660</td><td>182665.22</td><td>47222.6</td><td>48.7</td></tr><tr><td>45-54</td><td>Y</td><td>3039</td><td>132152.02</td><td>42163.87</td><td>48.8</td></tr><tr><td>55+</td><td>Y</td><td>843</td><td>147366.55</td><td>38965.53</td><td>58.8</td></tr><tr><td>55+</td><td>N</td><td>2316</td><td>170012.95</td><td>51699.37</td><td>58.8</td></tr></tbody></table></div>"
      ]
     },
     "metadata": {
      "application/vnd.databricks.v1+output": {
       "addedWidgets": {},
       "aggData": [],
       "aggError": "",
       "aggOverflow": false,
       "aggSchema": [],
       "aggSeriesLimitReached": false,
       "aggType": "",
       "arguments": {},
       "columnCustomDisplayInfos": {},
       "data": [
        [
         "18-24",
         "N",
         5865,
         64143.22,
         25966.52,
         23.2
        ],
        [
         "18-24",
         "Y",
         2190,
         52465.75,
         25385.31,
         23.1
        ],
        [
         "25-34",
         "Y",
         7923,
         131188.94,
         44362.85,
         29.2
        ],
        [
         "25-34",
         "N",
         31110,
         180718.42,
         46418.3,
         29.4
        ],
        [
         "35-44",
         "Y",
         5913,
         153910.54,
         50286.82,
         39.1
        ],
        [
         "35-44",
         "N",
         21141,
         204660.14,
         47785.89,
         39.0
        ],
        [
         "45-54",
         "N",
         9660,
         182665.22,
         47222.6,
         48.7
        ],
        [
         "45-54",
         "Y",
         3039,
         132152.02,
         42163.87,
         48.8
        ],
        [
         "55+",
         "Y",
         843,
         147366.55,
         38965.53,
         58.8
        ],
        [
         "55+",
         "N",
         2316,
         170012.95,
         51699.37,
         58.8
        ]
       ],
       "datasetInfos": [],
       "dbfsResultPath": null,
       "isJsonSchema": true,
       "metadata": {},
       "overflow": false,
       "plotOptions": {
        "customPlotOptions": {},
        "displayType": "table",
        "pivotAggregation": null,
        "pivotColumns": null,
        "xColumns": null,
        "yColumns": null
       },
       "removedWidgets": [],
       "schema": [
        {
         "metadata": "{}",
         "name": "age_group",
         "type": "\"string\""
        },
        {
         "metadata": "{}",
         "name": "default_flag",
         "type": "\"string\""
        },
        {
         "metadata": "{}",
         "name": "customer_count",
         "type": "\"long\""
        },
        {
         "metadata": "{}",
         "name": "avg_credit_limit",
         "type": "\"double\""
        },
        {
         "metadata": "{}",
         "name": "avg_bill_amount",
         "type": "\"double\""
        },
        {
         "metadata": "{}",
         "name": "avg_age",
         "type": "\"double\""
        }
       ],
       "type": "table"
      }
     },
     "output_type": "display_data"
    },
    {
     "output_type": "stream",
     "name": "stdout",
     "output_type": "stream",
     "text": [
      "\n----------------------------------------------------------------------\nTABLE 5: GENDER ANALYSIS\n----------------------------------------------------------------------\n"
     ]
    },
    {
     "output_type": "display_data",
     "data": {
      "text/html": [
       "<style scoped>\n",
       "  .table-result-container {\n",
       "    max-height: 300px;\n",
       "    overflow: auto;\n",
       "  }\n",
       "  table, th, td {\n",
       "    border: 1px solid black;\n",
       "    border-collapse: collapse;\n",
       "  }\n",
       "  th, td {\n",
       "    padding: 5px;\n",
       "  }\n",
       "  th {\n",
       "    text-align: left;\n",
       "  }\n",
       "</style><div class='table-result-container'><table class='table-result'><thead style='background-color: white'><tr><th>gender</th><th>default_flag</th><th>customer_count</th><th>avg_credit_limit</th><th>avg_bill_amount</th><th>avg_age</th></tr></thead><tbody><tr><td>F</td><td>N</td><td>43047</td><td>179726.53</td><td>43999.21</td><td>34.8</td></tr><tr><td>F</td><td>Y</td><td>11289</td><td>133327.13</td><td>42311.45</td><td>34.9</td></tr><tr><td>M</td><td>Y</td><td>8619</td><td>125895.47</td><td>44988.59</td><td>36.8</td></tr><tr><td>M</td><td>N</td><td>27045</td><td>175510.37</td><td>47642.09</td><td>36.4</td></tr></tbody></table></div>"
      ]
     },
     "metadata": {
      "application/vnd.databricks.v1+output": {
       "addedWidgets": {},
       "aggData": [],
       "aggError": "",
       "aggOverflow": false,
       "aggSchema": [],
       "aggSeriesLimitReached": false,
       "aggType": "",
       "arguments": {},
       "columnCustomDisplayInfos": {},
       "data": [
        [
         "F",
         "N",
         43047,
         179726.53,
         43999.21,
         34.8
        ],
        [
         "F",
         "Y",
         11289,
         133327.13,
         42311.45,
         34.9
        ],
        [
         "M",
         "Y",
         8619,
         125895.47,
         44988.59,
         36.8
        ],
        [
         "M",
         "N",
         27045,
         175510.37,
         47642.09,
         36.4
        ]
       ],
       "datasetInfos": [],
       "dbfsResultPath": null,
       "isJsonSchema": true,
       "metadata": {},
       "overflow": false,
       "plotOptions": {
        "customPlotOptions": {},
        "displayType": "table",
        "pivotAggregation": null,
        "pivotColumns": null,
        "xColumns": null,
        "yColumns": null
       },
       "removedWidgets": [],
       "schema": [
        {
         "metadata": "{}",
         "name": "gender",
         "type": "\"string\""
        },
        {
         "metadata": "{}",
         "name": "default_flag",
         "type": "\"string\""
        },
        {
         "metadata": "{}",
         "name": "customer_count",
         "type": "\"long\""
        },
        {
         "metadata": "{}",
         "name": "avg_credit_limit",
         "type": "\"double\""
        },
        {
         "metadata": "{}",
         "name": "avg_bill_amount",
         "type": "\"double\""
        },
        {
         "metadata": "{}",
         "name": "avg_age",
         "type": "\"double\""
        }
       ],
       "type": "table"
      }
     },
     "output_type": "display_data"
    },
    {
     "output_type": "stream",
     "name": "stdout",
     "output_type": "stream",
     "text": [
      "\n----------------------------------------------------------------------\nTABLE 6: DEFAULT SCORECARD\n----------------------------------------------------------------------\n"
     ]
    },
    {
     "output_type": "display_data",
     "data": {
      "text/html": [
       "<style scoped>\n",
       "  .table-result-container {\n",
       "    max-height: 300px;\n",
       "    overflow: auto;\n",
       "  }\n",
       "  table, th, td {\n",
       "    border: 1px solid black;\n",
       "    border-collapse: collapse;\n",
       "  }\n",
       "  th, td {\n",
       "    padding: 5px;\n",
       "  }\n",
       "  th {\n",
       "    text-align: left;\n",
       "  }\n",
       "</style><div class='table-result-container'><table class='table-result'><thead style='background-color: white'><tr><th>credit_utilization</th><th>latest_payment_status</th><th>default_flag</th><th>count</th><th>avg_age</th><th>avg_limit</th><th>avg_bill</th></tr></thead><tbody><tr><td>Low Utilization</td><td>Revolving</td><td>N</td><td>20829</td><td>36.5</td><td>229409.0</td><td>10000.0</td></tr><tr><td>Low Utilization</td><td>On-Time</td><td>N</td><td>19266</td><td>34.6</td><td>197183.0</td><td>41561.0</td></tr><tr><td>Medium Utilization</td><td>On-Time</td><td>N</td><td>11304</td><td>35.4</td><td>130581.0</td><td>85183.0</td></tr><tr><td>High Utilization</td><td>On-Time</td><td>N</td><td>7977</td><td>35.1</td><td>112951.0</td><td>103545.0</td></tr><tr><td>Low Utilization</td><td>1 Month Late</td><td>N</td><td>5370</td><td>35.4</td><td>188123.0</td><td>9866.0</td></tr><tr><td>Low Utilization</td><td>Revolving</td><td>Y</td><td>4167</td><td>36.7</td><td>189834.0</td><td>5612.0</td></tr><tr><td>Low Utilization</td><td>1 Month Late</td><td>Y</td><td>2235</td><td>36.7</td><td>163812.0</td><td>9138.0</td></tr><tr><td>Low Utilization</td><td>On-Time</td><td>Y</td><td>2106</td><td>34.7</td><td>131068.0</td><td>26994.0</td></tr><tr><td>Low Utilization</td><td>2+ Months Late</td><td>Y</td><td>1962</td><td>36.1</td><td>133578.0</td><td>28272.0</td></tr><tr><td>High Utilization</td><td>2+ Months Late</td><td>Y</td><td>1929</td><td>35.1</td><td>98040.0</td><td>90098.0</td></tr><tr><td>Medium Utilization</td><td>On-Time</td><td>Y</td><td>1869</td><td>35.4</td><td>105281.0</td><td>69613.0</td></tr><tr><td>High Utilization</td><td>On-Time</td><td>Y</td><td>1689</td><td>35.2</td><td>101470.0</td><td>93335.0</td></tr><tr><td>Medium Utilization</td><td>2+ Months Late</td><td>Y</td><td>1641</td><td>35.5</td><td>98099.0</td><td>64061.0</td></tr><tr><td>High Utilization</td><td>1 Month Late</td><td>N</td><td>1089</td><td>34.2</td><td>77493.0</td><td>71377.0</td></tr><tr><td>High Utilization</td><td>2+ Months Late</td><td>N</td><td>906</td><td>34.6</td><td>95596.0</td><td>89392.0</td></tr><tr><td>Low Utilization</td><td>2+ Months Late</td><td>N</td><td>888</td><td>35.3</td><td>141507.0</td><td>21456.0</td></tr><tr><td>Medium Utilization</td><td>1 Month Late</td><td>N</td><td>849</td><td>34.3</td><td>85477.0</td><td>57462.0</td></tr><tr><td>Medium Utilization</td><td>1 Month Late</td><td>Y</td><td>771</td><td>35.8</td><td>76537.0</td><td>49735.0</td></tr><tr><td>High Utilization</td><td>1 Month Late</td><td>Y</td><td>750</td><td>34.5</td><td>71960.0</td><td>66502.0</td></tr><tr><td>Medium Utilization</td><td>2+ Months Late</td><td>N</td><td>675</td><td>35.3</td><td>100178.0</td><td>67522.0</td></tr><tr><td>Medium Utilization</td><td>Revolving</td><td>N</td><td>573</td><td>33.4</td><td>100157.0</td><td>63774.0</td></tr><tr><td>High Utilization</td><td>Revolving</td><td>Y</td><td>486</td><td>35.2</td><td>85370.0</td><td>82929.0</td></tr><tr><td>High Utilization</td><td>Revolving</td><td>N</td><td>366</td><td>34.2</td><td>66967.0</td><td>62770.0</td></tr><tr><td>Medium Utilization</td><td>Revolving</td><td>Y</td><td>303</td><td>33.8</td><td>73366.0</td><td>46494.0</td></tr></tbody></table></div>"
      ]
     },
     "metadata": {
      "application/vnd.databricks.v1+output": {
       "addedWidgets": {},
       "aggData": [],
       "aggError": "",
       "aggOverflow": false,
       "aggSchema": [],
       "aggSeriesLimitReached": false,
       "aggType": "",
       "arguments": {},
       "columnCustomDisplayInfos": {},
       "data": [
        [
         "Low Utilization",
         "Revolving",
         "N",
         20829,
         36.5,
         229409.0,
         10000.0
        ],
        [
         "Low Utilization",
         "On-Time",
         "N",
         19266,
         34.6,
         197183.0,
         41561.0
        ],
        [
         "Medium Utilization",
         "On-Time",
         "N",
         11304,
         35.4,
         130581.0,
         85183.0
        ],
        [
         "High Utilization",
         "On-Time",
         "N",
         7977,
         35.1,
         112951.0,
         103545.0
        ],
        [
         "Low Utilization",
         "1 Month Late",
         "N",
         5370,
         35.4,
         188123.0,
         9866.0
        ],
        [
         "Low Utilization",
         "Revolving",
         "Y",
         4167,
         36.7,
         189834.0,
         5612.0
        ],
        [
         "Low Utilization",
         "1 Month Late",
         "Y",
         2235,
         36.7,
         163812.0,
         9138.0
        ],
        [
         "Low Utilization",
         "On-Time",
         "Y",
         2106,
         34.7,
         131068.0,
         26994.0
        ],
        [
         "Low Utilization",
         "2+ Months Late",
         "Y",
         1962,
         36.1,
         133578.0,
         28272.0
        ],
        [
         "High Utilization",
         "2+ Months Late",
         "Y",
         1929,
         35.1,
         98040.0,
         90098.0
        ],
        [
         "Medium Utilization",
         "On-Time",
         "Y",
         1869,
         35.4,
         105281.0,
         69613.0
        ],
        [
         "High Utilization",
         "On-Time",
         "Y",
         1689,
         35.2,
         101470.0,
         93335.0
        ],
        [
         "Medium Utilization",
         "2+ Months Late",
         "Y",
         1641,
         35.5,
         98099.0,
         64061.0
        ],
        [
         "High Utilization",
         "1 Month Late",
         "N",
         1089,
         34.2,
         77493.0,
         71377.0
        ],
        [
         "High Utilization",
         "2+ Months Late",
         "N",
         906,
         34.6,
         95596.0,
         89392.0
        ],
        [
         "Low Utilization",
         "2+ Months Late",
         "N",
         888,
         35.3,
         141507.0,
         21456.0
        ],
        [
         "Medium Utilization",
         "1 Month Late",
         "N",
         849,
         34.3,
         85477.0,
         57462.0
        ],
        [
         "Medium Utilization",
         "1 Month Late",
         "Y",
         771,
         35.8,
         76537.0,
         49735.0
        ],
        [
         "High Utilization",
         "1 Month Late",
         "Y",
         750,
         34.5,
         71960.0,
         66502.0
        ],
        [
         "Medium Utilization",
         "2+ Months Late",
         "N",
         675,
         35.3,
         100178.0,
         67522.0
        ],
        [
         "Medium Utilization",
         "Revolving",
         "N",
         573,
         33.4,
         100157.0,
         63774.0
        ],
        [
         "High Utilization",
         "Revolving",
         "Y",
         486,
         35.2,
         85370.0,
         82929.0
        ],
        [
         "High Utilization",
         "Revolving",
         "N",
         366,
         34.2,
         66967.0,
         62770.0
        ],
        [
         "Medium Utilization",
         "Revolving",
         "Y",
         303,
         33.8,
         73366.0,
         46494.0
        ]
       ],
       "datasetInfos": [],
       "dbfsResultPath": null,
       "isJsonSchema": true,
       "metadata": {},
       "overflow": false,
       "plotOptions": {
        "customPlotOptions": {},
        "displayType": "table",
        "pivotAggregation": null,
        "pivotColumns": null,
        "xColumns": null,
        "yColumns": null
       },
       "removedWidgets": [],
       "schema": [
        {
         "metadata": "{}",
         "name": "credit_utilization",
         "type": "\"string\""
        },
        {
         "metadata": "{}",
         "name": "latest_payment_status",
         "type": "\"string\""
        },
        {
         "metadata": "{}",
         "name": "default_flag",
         "type": "\"string\""
        },
        {
         "metadata": "{}",
         "name": "count",
         "type": "\"long\""
        },
        {
         "metadata": "{}",
         "name": "avg_age",
         "type": "\"double\""
        },
        {
         "metadata": "{}",
         "name": "avg_limit",
         "type": "\"double\""
        },
        {
         "metadata": "{}",
         "name": "avg_bill",
         "type": "\"double\""
        }
       ],
       "type": "table"
      }
     },
     "output_type": "display_data"
    },
    {
     "output_type": "stream",
     "name": "stdout",
     "output_type": "stream",
     "text": [
      "\n----------------------------------------------------------------------\nKEY INSIGHTS\n----------------------------------------------------------------------\n\nCould not calculate default rate: [UNRESOLVED_COLUMN.WITH_SUGGESTION] A column or function parameter with name `default_flag` cannot be resolved. Did you mean one of the following? [`default`, `ingest_ts`, `BILL_AMT1`, `BILL_AMT2`, `BILL_AMT3`].;\n'Aggregate [round(((sum(CASE WHEN ('default_flag = Y) THEN 1 ELSE 0 END) * 100.0) / count(1)), 2) AS default_rate_pct#58876]\n+- Relation [ID#58822,LIMIT_BAL#58823,SEX#58824,EDUCATION#58825,MARRIAGE#58826,AGE#58827,PAY_0#58828,PAY_2#58829,PAY_3#58830,PAY_4#58831,PAY_5#58832,PAY_6#58833,BILL_AMT1#58834,BILL_AMT2#58835,BILL_AMT3#58836,BILL_AMT4#58837,BILL_AMT5#58838,BILL_AMT6#58839,PAY_AMT1#58840,PAY_AMT2#58841,PAY_AMT3#58842,PAY_AMT4#58843,PAY_AMT5#58844,PAY_AMT6#58845,... 2 more fields] parquet\n\n\nHighest Risk Segments:\n"
     ]
    },
    {
     "output_type": "display_data",
     "data": {
      "text/html": [
       "<style scoped>\n",
       "  .table-result-container {\n",
       "    max-height: 300px;\n",
       "    overflow: auto;\n",
       "  }\n",
       "  table, th, td {\n",
       "    border: 1px solid black;\n",
       "    border-collapse: collapse;\n",
       "  }\n",
       "  th, td {\n",
       "    padding: 5px;\n",
       "  }\n",
       "  th {\n",
       "    text-align: left;\n",
       "  }\n",
       "</style><div class='table-result-container'><table class='table-result'><thead style='background-color: white'><tr><th>spending_segment</th><th>payment_status_segment</th><th>default_flag</th><th>customer_count</th><th>avg_credit_limit</th><th>avg_bill_amount</th><th>avg_age</th><th>default_rate_pct</th></tr></thead><tbody><tr><td>Medium Spender</td><td>Delinquent</td><td>Y</td><td>279</td><td>52150.54</td><td>33327.69</td><td>34.8</td><td>100.0</td></tr><tr><td>Medium Spender</td><td>Good Standing</td><td>Y</td><td>3786</td><td>78851.03</td><td>33403.78</td><td>34.5</td><td>100.0</td></tr><tr><td>Low Spender</td><td>Revolving</td><td>Y</td><td>2388</td><td>136444.72</td><td>5359.15</td><td>36.4</td><td>100.0</td></tr><tr><td>High Spender</td><td>Delinquent</td><td>Y</td><td>234</td><td>173717.95</td><td>150703.62</td><td>35.8</td><td>100.0</td></tr><tr><td>Low Spender</td><td>Good Standing</td><td>Y</td><td>7134</td><td>134108.49</td><td>6718.0</td><td>35.8</td><td>100.0</td></tr></tbody></table></div>"
      ]
     },
     "metadata": {
      "application/vnd.databricks.v1+output": {
       "addedWidgets": {},
       "aggData": [],
       "aggError": "",
       "aggOverflow": false,
       "aggSchema": [],
       "aggSeriesLimitReached": false,
       "aggType": "",
       "arguments": {},
       "columnCustomDisplayInfos": {},
       "data": [
        [
         "Medium Spender",
         "Delinquent",
         "Y",
         279,
         52150.54,
         33327.69,
         34.8,
         100.0
        ],
        [
         "Medium Spender",
         "Good Standing",
         "Y",
         3786,
         78851.03,
         33403.78,
         34.5,
         100.0
        ],
        [
         "Low Spender",
         "Revolving",
         "Y",
         2388,
         136444.72,
         5359.15,
         36.4,
         100.0
        ],
        [
         "High Spender",
         "Delinquent",
         "Y",
         234,
         173717.95,
         150703.62,
         35.8,
         100.0
        ],
        [
         "Low Spender",
         "Good Standing",
         "Y",
         7134,
         134108.49,
         6718.0,
         35.8,
         100.0
        ]
       ],
       "datasetInfos": [],
       "dbfsResultPath": null,
       "isJsonSchema": true,
       "metadata": {},
       "overflow": false,
       "plotOptions": {
        "customPlotOptions": {},
        "displayType": "table",
        "pivotAggregation": null,
        "pivotColumns": null,
        "xColumns": null,
        "yColumns": null
       },
       "removedWidgets": [],
       "schema": [
        {
         "metadata": "{}",
         "name": "spending_segment",
         "type": "\"string\""
        },
        {
         "metadata": "{}",
         "name": "payment_status_segment",
         "type": "\"string\""
        },
        {
         "metadata": "{}",
         "name": "default_flag",
         "type": "\"string\""
        },
        {
         "metadata": "{}",
         "name": "customer_count",
         "type": "\"long\""
        },
        {
         "metadata": "{}",
         "name": "avg_credit_limit",
         "type": "\"double\""
        },
        {
         "metadata": "{}",
         "name": "avg_bill_amount",
         "type": "\"double\""
        },
        {
         "metadata": "{}",
         "name": "avg_age",
         "type": "\"double\""
        },
        {
         "metadata": "{}",
         "name": "default_rate_pct",
         "type": "\"double\""
        }
       ],
       "type": "table"
      }
     },
     "output_type": "display_data"
    },
    {
     "output_type": "stream",
     "name": "stdout",
     "output_type": "stream",
     "text": [
      "\n======================================================================\nGOLD LAYER PIPELINE COMPLETE!\n======================================================================\n\n✓ TABLES NOW IN CATALOG:\n  1. credit_risk.gold_customer_agg\n  2. credit_risk.gold_risk_segments\n  3. credit_risk.gold_education_agg\n  4. credit_risk.gold_age_group_agg\n  5. credit_risk.gold_gender_agg\n  6. credit_risk.gold_scorecard\n\n✓ HOW TO ACCESS:\n  1. Click 'Catalog' in left sidebar\n  2. Click 'credit_risk' database\n  3. All 6 tables are now visible\n  4. Click any table to view schema, stats, and data\n\n✓ TABLES ARE PERMANENT MANAGED TABLES\n  - Visible in Databricks Catalog\n  - Persisted in workspace storage\n  - Can be queried via SQL or Python\n  - Full metadata and lineage tracking\n\n======================================================================\n"
     ]
    }
   ],
   "source": [
    "# Databricks notebook: gold_layer (Complete Version with Catalog Tables)\n",
    "from pyspark.sql.functions import col, when, round, avg, max, min, count, sum as spark_sum, desc, first\n",
    "\n",
    "print(\"=\"*70)\n",
    "print(\"GOLD LAYER - ANALYTICS & AGGREGATIONS\")\n",
    "print(\"=\"*70)\n",
    "\n",
    "# STEP 1: DEFINE PATHS (Using /mnt/cc mount)\n",
    "silver_path = \"/mnt/cc/silver/credit_default\"\n",
    "gold_path = \"/mnt/cc/gold/credit_default\"\n",
    "\n",
    "print(f\"\\nSilver path: {silver_path}\")\n",
    "print(f\"Gold path: {gold_path}\")\n",
    "\n",
    "\n",
    "# STEP 2: READ FROM SILVER LAYER\n",
    "print(\"\\n\" + \"-\"*70)\n",
    "print(\"STEP 1: READING SILVER DATA\")\n",
    "print(\"-\"*70)\n",
    "\n",
    "try:\n",
    "    df = spark.read.format(\"delta\").load(silver_path)\n",
    "    row_count = df.count()\n",
    "    col_count = len(df.columns)\n",
    "    print(f\"Successfully loaded silver data\")\n",
    "    print(f\"  Rows: {row_count:,}\")\n",
    "    print(f\"  Columns: {col_count}\")\n",
    "    \n",
    "    # Check which default column exists\n",
    "    if \"default_flag\" in df.columns:\n",
    "        default_col = \"default_flag\"\n",
    "    elif \"default\" in df.columns:\n",
    "        default_col = \"default\"\n",
    "        df = df.withColumnRenamed(\"default\", \"default_flag\")\n",
    "    else:\n",
    "        print(\"Warning: No default column found!\")\n",
    "        default_col = None\n",
    "except Exception as e:\n",
    "    print(f\"Error reading silver layer: {e}\")\n",
    "    raise\n",
    "\n",
    "\n",
    "# STEP 3: CREATE GOLD LAYER AGGREGATIONS\n",
    "print(\"\\n\" + \"-\"*70)\n",
    "print(\"STEP 2: CREATING GOLD LAYER AGGREGATIONS\")\n",
    "print(\"-\"*70)\n",
    "\n",
    "# 3A: Customer-Level Aggregations\n",
    "print(\"\\n3A. Creating customer-level aggregations...\")\n",
    "customer_agg = df.groupBy(\"ID\").agg(\n",
    "    first(\"LIMIT_BAL\").alias(\"LIMIT_BAL\"),\n",
    "    first(\"SEX\").alias(\"SEX\"),\n",
    "    first(\"EDUCATION\").alias(\"EDUCATION\"),\n",
    "    first(\"MARRIAGE\").alias(\"MARRIAGE\"),\n",
    "    first(\"AGE\").alias(\"AGE\"),\n",
    "    first(\"PAY_0\").alias(\"latest_pay_status\"),\n",
    "    avg(\"PAY_0\").alias(\"avg_pay_status\"),\n",
    "    avg(\"BILL_AMT1\").alias(\"avg_monthly_bill\"),\n",
    "    max(\"BILL_AMT1\").alias(\"max_monthly_bill\"),\n",
    "    min(\"BILL_AMT1\").alias(\"min_monthly_bill\"),\n",
    "    first(\"avg_bill_amt\").alias(\"avg_bill_6months\"),\n",
    "    avg(\"PAY_AMT1\").alias(\"avg_monthly_payment\"),\n",
    "    max(\"PAY_AMT1\").alias(\"max_monthly_payment\"),\n",
    "    min(\"PAY_AMT1\").alias(\"min_monthly_payment\"),\n",
    "    round((avg(\"BILL_AMT1\") / first(\"LIMIT_BAL\")) * 100, 2).alias(\"utilization_ratio\"),\n",
    "    first(\"default_flag\").alias(\"default_flag\"),\n",
    "    count(\"*\").alias(\"record_count\")\n",
    ").filter(col(\"record_count\") > 0)\n",
    "print(\"  Customer-level aggregations created\")\n",
    "\n",
    "# 3B: Risk Segment Analysis\n",
    "print(\"\\n3B. Creating risk segment analysis...\")\n",
    "risk_segments = df.groupBy(\n",
    "    when(col(\"avg_bill_amt\") > 50000, \"High Spender\")\n",
    "        .when(col(\"avg_bill_amt\") > 20000, \"Medium Spender\")\n",
    "        .otherwise(\"Low Spender\").alias(\"spending_segment\"),\n",
    "    when(col(\"PAY_0\").isin(2, 0, -1, -2), \"Good Standing\")\n",
    "        .when(col(\"PAY_0\") == 1, \"Revolving\")\n",
    "        .otherwise(\"Delinquent\").alias(\"payment_status_segment\"),\n",
    "    col(\"default_flag\").alias(\"default_flag\")\n",
    ").agg(\n",
    "    count(\"*\").alias(\"customer_count\"),\n",
    "    round(avg(\"LIMIT_BAL\"), 2).alias(\"avg_credit_limit\"),\n",
    "    round(avg(\"avg_bill_amt\"), 2).alias(\"avg_bill_amount\"),\n",
    "    round(avg(\"AGE\"), 1).alias(\"avg_age\"),\n",
    "    round((spark_sum(when(col(\"default_flag\") == \"Y\", 1).otherwise(0)) / count(\"*\")) * 100, 2).alias(\"default_rate_pct\")\n",
    ").orderBy(desc(\"customer_count\"))\n",
    "print(\"  Risk segment analysis created\")\n",
    "\n",
    "# 3C: Education Level Analysis\n",
    "print(\"\\n3C. Creating education level analysis...\")\n",
    "education_agg = df.groupBy(\"EDUCATION\").agg(\n",
    "    count(\"*\").alias(\"customer_count\"),\n",
    "    round(avg(\"LIMIT_BAL\"), 2).alias(\"avg_credit_limit\"),\n",
    "    round(avg(\"avg_bill_amt\"), 2).alias(\"avg_bill_amount\"),\n",
    "    round(avg(\"AGE\"), 1).alias(\"avg_age\"),\n",
    "    round((spark_sum(when(col(\"default_flag\") == \"Y\", 1).otherwise(0)) / count(\"*\")) * 100, 2).alias(\"default_rate_pct\")\n",
    ").orderBy(\"EDUCATION\")\n",
    "print(\"  Education level analysis created\")\n",
    "\n",
    "# 3D: Age Group Analysis\n",
    "print(\"\\n3D. Creating age group analysis...\")\n",
    "age_group_agg = df.groupBy(\n",
    "    when(col(\"AGE\") < 25, \"18-24\")\n",
    "        .when(col(\"AGE\") < 35, \"25-34\")\n",
    "        .when(col(\"AGE\") < 45, \"35-44\")\n",
    "        .when(col(\"AGE\") < 55, \"45-54\")\n",
    "        .otherwise(\"55+\").alias(\"age_group\"),\n",
    "    col(\"default_flag\").alias(\"default_flag\")\n",
    ").agg(\n",
    "    count(\"*\").alias(\"customer_count\"),\n",
    "    round(avg(\"LIMIT_BAL\"), 2).alias(\"avg_credit_limit\"),\n",
    "    round(avg(\"avg_bill_amt\"), 2).alias(\"avg_bill_amount\"),\n",
    "    round(avg(\"AGE\"), 1).alias(\"avg_age\")\n",
    ").orderBy(\"age_group\")\n",
    "print(\"  Age group analysis created\")\n",
    "\n",
    "# 3E: Gender Analysis\n",
    "print(\"\\n3E. Creating gender analysis...\")\n",
    "gender_agg = df.groupBy(\n",
    "    col(\"SEX\").alias(\"gender\"),\n",
    "    col(\"default_flag\").alias(\"default_flag\")\n",
    ").agg(\n",
    "    count(\"*\").alias(\"customer_count\"),\n",
    "    round(avg(\"LIMIT_BAL\"), 2).alias(\"avg_credit_limit\"),\n",
    "    round(avg(\"avg_bill_amt\"), 2).alias(\"avg_bill_amount\"),\n",
    "    round(avg(\"AGE\"), 1).alias(\"avg_age\")\n",
    ").orderBy(\"gender\")\n",
    "print(\"  Gender analysis created\")\n",
    "\n",
    "# 3F: Default Prediction Scorecard\n",
    "print(\"\\n3F. Creating default prediction scorecard...\")\n",
    "scorecard = df.groupBy(\n",
    "    when((col(\"avg_bill_amt\") / col(\"LIMIT_BAL\")) > 0.8, \"High Utilization\")\n",
    "        .when((col(\"avg_bill_amt\") / col(\"LIMIT_BAL\")) > 0.5, \"Medium Utilization\")\n",
    "        .otherwise(\"Low Utilization\").alias(\"credit_utilization\"),\n",
    "    when(col(\"PAY_0\") == 0, \"On-Time\")\n",
    "        .when(col(\"PAY_0\") == 1, \"1 Month Late\")\n",
    "        .when(col(\"PAY_0\") == 2, \"2+ Months Late\")\n",
    "        .otherwise(\"Revolving\").alias(\"latest_payment_status\"),\n",
    "    col(\"default_flag\").alias(\"default_flag\")\n",
    ").agg(\n",
    "    count(\"*\").alias(\"count\"),\n",
    "    round(avg(\"AGE\"), 1).alias(\"avg_age\"),\n",
    "    round(avg(\"LIMIT_BAL\"), 0).alias(\"avg_limit\"),\n",
    "    round(avg(\"avg_bill_amt\"), 0).alias(\"avg_bill\")\n",
    ").orderBy(desc(\"count\"))\n",
    "print(\"  Default prediction scorecard created\")\n",
    "\n",
    "print(\"\\nAll gold layer aggregations created successfully\")\n",
    "\n",
    "# STEP 4: WRITE TO GOLD LAYER & CREATE TABLES\n",
    "print(\"\\n\" + \"-\"*70)\n",
    "print(\"STEP 3: CREATING & REGISTERING GOLD LAYER TABLES IN CATALOG\")\n",
    "print(\"-\"*70)\n",
    "\n",
    "# Create database first\n",
    "print(\"\\nCreating database...\")\n",
    "spark.sql(\"CREATE DATABASE IF NOT EXISTS credit_risk\")\n",
    "print(\"Database created: credit_risk\")\n",
    "\n",
    "# Define all tables to create\n",
    "tables = [\n",
    "    {\n",
    "        \"name\": \"gold_customer_agg\",\n",
    "        \"df\": customer_agg,\n",
    "        \"description\": \"Customer-level aggregations with all metrics\"\n",
    "    },\n",
    "    {\n",
    "        \"name\": \"gold_risk_segments\",\n",
    "        \"df\": risk_segments,\n",
    "        \"description\": \"Risk segment analysis\"\n",
    "    },\n",
    "    {\n",
    "        \"name\": \"gold_education_agg\",\n",
    "        \"df\": education_agg,\n",
    "        \"description\": \"Education demographics\"\n",
    "    },\n",
    "    {\n",
    "        \"name\": \"gold_age_group_agg\",\n",
    "        \"df\": age_group_agg,\n",
    "        \"description\": \"Age group analysis\"\n",
    "    },\n",
    "    {\n",
    "        \"name\": \"gold_gender_agg\",\n",
    "        \"df\": gender_agg,\n",
    "        \"description\": \"Gender analysis\"\n",
    "    },\n",
    "    {\n",
    "        \"name\": \"gold_scorecard\",\n",
    "        \"df\": scorecard,\n",
    "        \"description\": \"Default prediction scorecard\"\n",
    "    }\n",
    "]\n",
    "\n",
    "print(\"\\nCreating managed tables in Catalog...\")\n",
    "for table_info in tables:\n",
    "    table_name = table_info[\"name\"]\n",
    "    df_table = table_info[\"df\"]\n",
    "    description = table_info[\"description\"]\n",
    "    \n",
    "    try:\n",
    "        print(f\"\\nCreating table: credit_risk.{table_name}\")\n",
    "        \n",
    "        # Write and register as managed table\n",
    "        df_table.write \\\n",
    "            .format(\"delta\") \\\n",
    "            .mode(\"overwrite\") \\\n",
    "            .saveAsTable(f\"credit_risk.{table_name}\")\n",
    "        \n",
    "        # Add table comment for documentation\n",
    "        spark.sql(f\"\"\"\n",
    "            ALTER TABLE credit_risk.{table_name}\n",
    "            SET TBLPROPERTIES (\n",
    "                'description' = '{description}'\n",
    "            )\n",
    "        \"\"\")\n",
    "        \n",
    "        record_count = df_table.count()\n",
    "        print(f\"  Success: {record_count:,} records\")\n",
    "        \n",
    "    except Exception as e:\n",
    "        print(f\"  Error: {e}\")\n",
    "        raise\n",
    "\n",
    "print(\"\\n\" + \"=\"*70)\n",
    "print(\"ALL TABLES CREATED SUCCESSFULLY AND VISIBLE IN CATALOG\")\n",
    "print(\"=\"*70)\n",
    "\n",
    "\n",
    "# STEP 5: VERIFY TABLES IN CATALOG\n",
    "print(\"\\n\" + \"-\"*70)\n",
    "print(\"STEP 4: VERIFYING TABLES IN CATALOG\")\n",
    "print(\"-\"*70)\n",
    "\n",
    "print(\"\\nTables created in credit_risk database:\")\n",
    "catalog_tables = spark.sql(\"SHOW TABLES IN credit_risk\")\n",
    "display(catalog_tables)\n",
    "\n",
    "\n",
    "# STEP 6: DISPLAY GOLD LAYER INSIGHTS\n",
    "print(\"\\n\" + \"=\"*70)\n",
    "print(\"GOLD LAYER ANALYTICS - DATA PREVIEW\")\n",
    "print(\"=\"*70)\n",
    "\n",
    "print(\"\\n\" + \"-\"*70)\n",
    "print(\"TABLE 1: CUSTOMER AGGREGATIONS (Sample)\")\n",
    "print(\"-\"*70)\n",
    "print(f\"Total customers: {customer_agg.count():,}\")\n",
    "display(customer_agg.limit(10))\n",
    "\n",
    "print(\"\\n\" + \"-\"*70)\n",
    "print(\"TABLE 2: RISK SEGMENTS\")\n",
    "print(\"-\"*70)\n",
    "display(risk_segments)\n",
    "\n",
    "print(\"\\n\" + \"-\"*70)\n",
    "print(\"TABLE 3: EDUCATION LEVEL ANALYSIS\")\n",
    "print(\"-\"*70)\n",
    "display(education_agg)\n",
    "\n",
    "print(\"\\n\" + \"-\"*70)\n",
    "print(\"TABLE 4: AGE GROUP ANALYSIS\")\n",
    "print(\"-\"*70)\n",
    "display(age_group_agg)\n",
    "\n",
    "print(\"\\n\" + \"-\"*70)\n",
    "print(\"TABLE 5: GENDER ANALYSIS\")\n",
    "print(\"-\"*70)\n",
    "display(gender_agg)\n",
    "\n",
    "print(\"\\n\" + \"-\"*70)\n",
    "print(\"TABLE 6: DEFAULT SCORECARD\")\n",
    "print(\"-\"*70)\n",
    "display(scorecard)\n",
    "\n",
    "# STEP 7: KEY INSIGHTS\n",
    "print(\"\\n\" + \"-\"*70)\n",
    "print(\"KEY INSIGHTS\")\n",
    "print(\"-\"*70)\n",
    "\n",
    "try:\n",
    "    bronze_path_alt = \"/mnt/cc/bronze/credit_default\"\n",
    "    df_bronze = spark.read.format(\"delta\").load(bronze_path_alt)\n",
    "    \n",
    "    default_rate = df_bronze.select(\n",
    "        round(100.0 * spark_sum(when(col(\"default_flag\") == \"Y\", 1).otherwise(0)) / count(\"*\"), 2).alias(\"default_rate_pct\")\n",
    "    ).collect()[0][0]\n",
    "    print(f\"\\nOverall Default Rate: {default_rate}%\")\n",
    "except Exception as e:\n",
    "    print(f\"\\nCould not calculate default rate: {e}\")\n",
    "\n",
    "try:\n",
    "    print(\"\\nHighest Risk Segments:\")\n",
    "    display(risk_segments.filter(col(\"default_rate_pct\") > 0).orderBy(desc(\"default_rate_pct\")).limit(5))\n",
    "except Exception as e:\n",
    "    print(f\"Could not display risk analysis: {e}\")\n",
    "\n",
    "\n",
    "# FINAL SUMMARY\n",
    "print(\"\\n\" + \"=\"*70)\n",
    "print(\"GOLD LAYER PIPELINE COMPLETE!\")\n",
    "print(\"=\"*70)\n",
    "\n",
    "print(\"\\n✓ TABLES NOW IN CATALOG:\")\n",
    "print(\"  1. credit_risk.gold_customer_agg\")\n",
    "print(\"  2. credit_risk.gold_risk_segments\")\n",
    "print(\"  3. credit_risk.gold_education_agg\")\n",
    "print(\"  4. credit_risk.gold_age_group_agg\")\n",
    "print(\"  5. credit_risk.gold_gender_agg\")\n",
    "print(\"  6. credit_risk.gold_scorecard\")\n",
    "\n",
    "print(\"\\n✓ HOW TO ACCESS:\")\n",
    "print(\"  1. Click 'Catalog' in left sidebar\")\n",
    "print(\"  2. Click 'credit_risk' database\")\n",
    "print(\"  3. All 6 tables are now visible\")\n",
    "print(\"  4. Click any table to view schema, stats, and data\")\n",
    "\n",
    "print(\"\\n✓ TABLES ARE PERMANENT MANAGED TABLES\")\n",
    "print(\"  - Visible in Databricks Catalog\")\n",
    "print(\"  - Persisted in workspace storage\")\n",
    "print(\"  - Can be queried via SQL or Python\")\n",
    "print(\"  - Full metadata and lineage tracking\")\n",
    "\n",
    "print(\"\\n\" + \"=\"*70)"
   ]
  },
  {
   "cell_type": "code",
   "execution_count": 0,
   "metadata": {
    "application/vnd.databricks.v1+cell": {
     "cellMetadata": {},
     "inputWidgets": {},
     "nuid": "42c1c3e2-b2c1-47e6-afaf-12bf9544db15",
     "showTitle": false,
     "tableResultSettingsMap": {},
     "title": ""
    }
   },
   "outputs": [],
   "source": []
  }
 ],
 "metadata": {
  "application/vnd.databricks.v1+notebook": {
   "computePreferences": null,
   "dashboards": [],
   "environmentMetadata": {
    "base_environment": "",
    "environment_version": "4"
   },
   "inputWidgetPreferences": null,
   "language": "python",
   "notebookMetadata": {
    "mostRecentlyExecutedCommandWithImplicitDF": {
     "commandId": 5458489073973532,
     "dataframes": [
      "_sqldf"
     ]
    },
    "pythonIndentUnit": 4
   },
   "notebookName": "3.Gold",
   "widgets": {}
  },
  "language_info": {
   "name": "python"
  }
 },
 "nbformat": 4,
 "nbformat_minor": 0
}